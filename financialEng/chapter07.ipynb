{
 "metadata": {
  "language_info": {
   "codemirror_mode": {
    "name": "ipython",
    "version": 3
   },
   "file_extension": ".py",
   "mimetype": "text/x-python",
   "name": "python",
   "nbconvert_exporter": "python",
   "pygments_lexer": "ipython3",
   "version": "3.8.5-final"
  },
  "orig_nbformat": 2,
  "kernelspec": {
   "name": "python3",
   "display_name": "Python 3"
  }
 },
 "nbformat": 4,
 "nbformat_minor": 2,
 "cells": [
  {
   "cell_type": "code",
   "execution_count": 1,
   "metadata": {},
   "outputs": [],
   "source": [
    "index_cd = 'KPI200'\n",
    "page_n = 1\n",
    "naver_index = 'https://finance.naver.com/sise/sise_index_day.nhn?code=' + index_cd + '&page=' + str(page_n)"
   ]
  },
  {
   "cell_type": "code",
   "execution_count": 2,
   "metadata": {},
   "outputs": [],
   "source": [
    "from urllib.request import urlopen\n",
    "import os\n",
    "os.environ[\"HTTP_PROXY\"] = \"\"\n",
    "os.environ[\"HTTPS_PROXY\"] = \"\"\n",
    "os.environ[\"PYTHONHTTPSVERIFY\"] = \"0\"\n"
   ]
  },
  {
   "cell_type": "code",
   "execution_count": 3,
   "metadata": {},
   "outputs": [],
   "source": [
    "source = urlopen(naver_index).read()"
   ]
  },
  {
   "cell_type": "code",
   "execution_count": 4,
   "metadata": {},
   "outputs": [],
   "source": [
    "import bs4"
   ]
  },
  {
   "cell_type": "code",
   "execution_count": 5,
   "metadata": {},
   "outputs": [],
   "source": [
    "source = bs4.BeautifulSoup(source, 'lxml')"
   ]
  },
  {
   "cell_type": "code",
   "execution_count": 13,
   "metadata": {},
   "outputs": [],
   "source": [
    "td = source.find_all('td')"
   ]
  },
  {
   "cell_type": "code",
   "execution_count": 8,
   "metadata": {},
   "outputs": [
    {
     "output_type": "execute_result",
     "data": {
      "text/plain": [
       "<td class=\"date\">2020.11.12</td>"
      ]
     },
     "metadata": {},
     "execution_count": 8
    }
   ],
   "source": [
    "source.find_all('table')[0].find_all('tr')[2].find_all('td')[0]"
   ]
  },
  {
   "cell_type": "code",
   "execution_count": 28,
   "metadata": {},
   "outputs": [
    {
     "output_type": "execute_result",
     "data": {
      "text/plain": [
       "<td class=\"number_1\">329.72</td>"
      ]
     },
     "metadata": {},
     "execution_count": 28
    }
   ],
   "source": [
    "source.find_all('table')[0].find_all('tr')[2].find_all('td')[1]"
   ]
  },
  {
   "cell_type": "code",
   "execution_count": 25,
   "metadata": {},
   "outputs": [],
   "source": [
    "dates = source.find_all('td', class_='date')\n",
    "prices = source.find_all('td', class_='number_1')"
   ]
  },
  {
   "cell_type": "code",
   "execution_count": 26,
   "metadata": {},
   "outputs": [
    {
     "output_type": "execute_result",
     "data": {
      "text/plain": [
       "[<td class=\"date\">2020.11.12</td>,\n",
       " <td class=\"date\">2020.11.11</td>,\n",
       " <td class=\"date\">2020.11.10</td>,\n",
       " <td class=\"date\">2020.11.09</td>,\n",
       " <td class=\"date\">2020.11.06</td>,\n",
       " <td class=\"date\">2020.11.05</td>]"
      ]
     },
     "metadata": {},
     "execution_count": 26
    }
   ],
   "source": [
    "dates"
   ]
  },
  {
   "cell_type": "code",
   "execution_count": 27,
   "metadata": {},
   "outputs": [
    {
     "output_type": "execute_result",
     "data": {
      "text/plain": [
       "[<td class=\"number_1\">329.72</td>,\n",
       " <td class=\"number_1\">\n",
       " <span class=\"tah p11 nv01\">\n",
       " \t\t\t\t-0.42%\n",
       " \t\t\t\t</span>\n",
       " </td>,\n",
       " <td class=\"number_1\" style=\"padding-right:40px;\">342,298</td>,\n",
       " <td class=\"number_1\" style=\"padding-right:30px;\">10,251,033</td>,\n",
       " <td class=\"number_1\">331.12</td>,\n",
       " <td class=\"number_1\">\n",
       " <span class=\"tah p11 red01\">\n",
       " \t\t\t\t+1.53%\n",
       " \t\t\t\t</span>\n",
       " </td>,\n",
       " <td class=\"number_1\" style=\"padding-right:40px;\">323,227</td>,\n",
       " <td class=\"number_1\" style=\"padding-right:30px;\">12,515,764</td>,\n",
       " <td class=\"number_1\">326.13</td>,\n",
       " <td class=\"number_1\">\n",
       " <span class=\"tah p11 red01\">\n",
       " \t\t\t\t+0.09%\n",
       " \t\t\t\t</span>\n",
       " </td>,\n",
       " <td class=\"number_1\" style=\"padding-right:40px;\">331,188</td>,\n",
       " <td class=\"number_1\" style=\"padding-right:30px;\">12,290,587</td>,\n",
       " <td class=\"number_1\">325.83</td>,\n",
       " <td class=\"number_1\">\n",
       " <span class=\"tah p11 red01\">\n",
       " \t\t\t\t+1.16%\n",
       " \t\t\t\t</span>\n",
       " </td>,\n",
       " <td class=\"number_1\" style=\"padding-right:40px;\">276,824</td>,\n",
       " <td class=\"number_1\" style=\"padding-right:30px;\">9,841,507</td>,\n",
       " <td class=\"number_1\">322.10</td>,\n",
       " <td class=\"number_1\">\n",
       " <span class=\"tah p11 red01\">\n",
       " \t\t\t\t+0.18%\n",
       " \t\t\t\t</span>\n",
       " </td>,\n",
       " <td class=\"number_1\" style=\"padding-right:40px;\">143,961</td>,\n",
       " <td class=\"number_1\" style=\"padding-right:30px;\">8,586,860</td>,\n",
       " <td class=\"number_1\">321.51</td>,\n",
       " <td class=\"number_1\">\n",
       " <span class=\"tah p11 red01\">\n",
       " \t\t\t\t+2.45%\n",
       " \t\t\t\t</span>\n",
       " </td>,\n",
       " <td class=\"number_1\" style=\"padding-right:40px;\">186,088</td>,\n",
       " <td class=\"number_1\" style=\"padding-right:30px;\">9,471,766</td>]"
      ]
     },
     "metadata": {},
     "execution_count": 27
    }
   ],
   "source": [
    "prices"
   ]
  },
  {
   "cell_type": "code",
   "execution_count": 29,
   "metadata": {},
   "outputs": [
    {
     "output_type": "execute_result",
     "data": {
      "text/plain": [
       "'/sise/sise_index_day.nhn?code=KPI200&page=613'"
      ]
     },
     "metadata": {},
     "execution_count": 29
    }
   ],
   "source": [
    "source.find('td', class_='pgRR').find('a')['href']"
   ]
  },
  {
   "cell_type": "code",
   "execution_count": 31,
   "metadata": {},
   "outputs": [
    {
     "output_type": "execute_result",
     "data": {
      "text/plain": [
       "<a href=\"/sise/sise_index_day.nhn?code=KPI200&amp;page=613\">맨뒤\n",
       "\t\t\t\t<img alt=\"\" border=\"0\" height=\"5\" src=\"https://ssl.pstatic.net/static/n/cmn/bu_pgarRR.gif\" width=\"8\"/>\n",
       "</a>"
      ]
     },
     "metadata": {},
     "execution_count": 31
    }
   ],
   "source": [
    "source.find('td', class_='pgRR').find('a')"
   ]
  },
  {
   "cell_type": "code",
   "execution_count": null,
   "metadata": {},
   "outputs": [],
   "source": []
  }
 ]
}