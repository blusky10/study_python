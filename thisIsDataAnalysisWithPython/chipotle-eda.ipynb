{
 "metadata": {
  "language_info": {
   "codemirror_mode": {
    "name": "ipython",
    "version": 3
   },
   "file_extension": ".py",
   "mimetype": "text/x-python",
   "name": "python",
   "nbconvert_exporter": "python",
   "pygments_lexer": "ipython3",
   "version": "3.9.2"
  },
  "orig_nbformat": 2,
  "kernelspec": {
   "name": "python392jvsc74a57bd0aee8b7b246df8f9039afb4144a1f6fd8d2ca17a180786b69acc140d282b71a49",
   "display_name": "Python 3.9.2 64-bit"
  },
  "metadata": {
   "interpreter": {
    "hash": "aee8b7b246df8f9039afb4144a1f6fd8d2ca17a180786b69acc140d282b71a49"
   }
  }
 },
 "nbformat": 4,
 "nbformat_minor": 2,
 "cells": [
  {
   "cell_type": "code",
   "execution_count": 3,
   "metadata": {},
   "outputs": [],
   "source": [
    "import pandas as pd"
   ]
  },
  {
   "cell_type": "code",
   "execution_count": 4,
   "metadata": {},
   "outputs": [],
   "source": [
    "file_path = './data/chipotle.tsv'"
   ]
  },
  {
   "cell_type": "code",
   "execution_count": 5,
   "metadata": {},
   "outputs": [],
   "source": [
    "chipo = pd.read_csv(file_path, sep = '\\t')"
   ]
  },
  {
   "cell_type": "code",
   "execution_count": 6,
   "metadata": {},
   "outputs": [
    {
     "output_type": "stream",
     "name": "stdout",
     "text": [
      "(4622, 5)\n"
     ]
    }
   ],
   "source": [
    "print(chipo.shape)"
   ]
  },
  {
   "cell_type": "code",
   "execution_count": 7,
   "metadata": {},
   "outputs": [
    {
     "output_type": "stream",
     "name": "stdout",
     "text": [
      "<class 'pandas.core.frame.DataFrame'>\nRangeIndex: 4622 entries, 0 to 4621\nData columns (total 5 columns):\n #   Column              Non-Null Count  Dtype \n---  ------              --------------  ----- \n 0   order_id            4622 non-null   int64 \n 1   quantity            4622 non-null   int64 \n 2   item_name           4622 non-null   object\n 3   choice_description  3376 non-null   object\n 4   item_price          4622 non-null   object\ndtypes: int64(2), object(3)\nmemory usage: 180.7+ KB\nNone\n"
     ]
    }
   ],
   "source": [
    "print(chipo.info())"
   ]
  },
  {
   "cell_type": "code",
   "execution_count": 8,
   "metadata": {},
   "outputs": [
    {
     "output_type": "execute_result",
     "data": {
      "text/plain": [
       "   order_id  quantity                              item_name  \\\n",
       "0         1         1           Chips and Fresh Tomato Salsa   \n",
       "1         1         1                                   Izze   \n",
       "2         1         1                       Nantucket Nectar   \n",
       "3         1         1  Chips and Tomatillo-Green Chili Salsa   \n",
       "4         2         2                           Chicken Bowl   \n",
       "5         3         1                           Chicken Bowl   \n",
       "6         3         1                          Side of Chips   \n",
       "7         4         1                          Steak Burrito   \n",
       "8         4         1                       Steak Soft Tacos   \n",
       "9         5         1                          Steak Burrito   \n",
       "\n",
       "                                  choice_description item_price  \n",
       "0                                                NaN     $2.39   \n",
       "1                                       [Clementine]     $3.39   \n",
       "2                                            [Apple]     $3.39   \n",
       "3                                                NaN     $2.39   \n",
       "4  [Tomatillo-Red Chili Salsa (Hot), [Black Beans...    $16.98   \n",
       "5  [Fresh Tomato Salsa (Mild), [Rice, Cheese, Sou...    $10.98   \n",
       "6                                                NaN     $1.69   \n",
       "7  [Tomatillo Red Chili Salsa, [Fajita Vegetables...    $11.75   \n",
       "8  [Tomatillo Green Chili Salsa, [Pinto Beans, Ch...     $9.25   \n",
       "9  [Fresh Tomato Salsa, [Rice, Black Beans, Pinto...     $9.25   "
      ],
      "text/html": "<div>\n<style scoped>\n    .dataframe tbody tr th:only-of-type {\n        vertical-align: middle;\n    }\n\n    .dataframe tbody tr th {\n        vertical-align: top;\n    }\n\n    .dataframe thead th {\n        text-align: right;\n    }\n</style>\n<table border=\"1\" class=\"dataframe\">\n  <thead>\n    <tr style=\"text-align: right;\">\n      <th></th>\n      <th>order_id</th>\n      <th>quantity</th>\n      <th>item_name</th>\n      <th>choice_description</th>\n      <th>item_price</th>\n    </tr>\n  </thead>\n  <tbody>\n    <tr>\n      <th>0</th>\n      <td>1</td>\n      <td>1</td>\n      <td>Chips and Fresh Tomato Salsa</td>\n      <td>NaN</td>\n      <td>$2.39</td>\n    </tr>\n    <tr>\n      <th>1</th>\n      <td>1</td>\n      <td>1</td>\n      <td>Izze</td>\n      <td>[Clementine]</td>\n      <td>$3.39</td>\n    </tr>\n    <tr>\n      <th>2</th>\n      <td>1</td>\n      <td>1</td>\n      <td>Nantucket Nectar</td>\n      <td>[Apple]</td>\n      <td>$3.39</td>\n    </tr>\n    <tr>\n      <th>3</th>\n      <td>1</td>\n      <td>1</td>\n      <td>Chips and Tomatillo-Green Chili Salsa</td>\n      <td>NaN</td>\n      <td>$2.39</td>\n    </tr>\n    <tr>\n      <th>4</th>\n      <td>2</td>\n      <td>2</td>\n      <td>Chicken Bowl</td>\n      <td>[Tomatillo-Red Chili Salsa (Hot), [Black Beans...</td>\n      <td>$16.98</td>\n    </tr>\n    <tr>\n      <th>5</th>\n      <td>3</td>\n      <td>1</td>\n      <td>Chicken Bowl</td>\n      <td>[Fresh Tomato Salsa (Mild), [Rice, Cheese, Sou...</td>\n      <td>$10.98</td>\n    </tr>\n    <tr>\n      <th>6</th>\n      <td>3</td>\n      <td>1</td>\n      <td>Side of Chips</td>\n      <td>NaN</td>\n      <td>$1.69</td>\n    </tr>\n    <tr>\n      <th>7</th>\n      <td>4</td>\n      <td>1</td>\n      <td>Steak Burrito</td>\n      <td>[Tomatillo Red Chili Salsa, [Fajita Vegetables...</td>\n      <td>$11.75</td>\n    </tr>\n    <tr>\n      <th>8</th>\n      <td>4</td>\n      <td>1</td>\n      <td>Steak Soft Tacos</td>\n      <td>[Tomatillo Green Chili Salsa, [Pinto Beans, Ch...</td>\n      <td>$9.25</td>\n    </tr>\n    <tr>\n      <th>9</th>\n      <td>5</td>\n      <td>1</td>\n      <td>Steak Burrito</td>\n      <td>[Fresh Tomato Salsa, [Rice, Black Beans, Pinto...</td>\n      <td>$9.25</td>\n    </tr>\n  </tbody>\n</table>\n</div>"
     },
     "metadata": {},
     "execution_count": 8
    }
   ],
   "source": [
    "chipo.head(10)"
   ]
  },
  {
   "cell_type": "code",
   "execution_count": 9,
   "metadata": {},
   "outputs": [],
   "source": [
    "chipo['order_id'] = chipo['order_id'].astype(str)"
   ]
  },
  {
   "cell_type": "code",
   "execution_count": 10,
   "metadata": {},
   "outputs": [
    {
     "output_type": "stream",
     "name": "stdout",
     "text": [
      "          quantity\ncount  4622.000000\nmean      1.075725\nstd       0.410186\nmin       1.000000\n25%       1.000000\n50%       1.000000\n75%       1.000000\nmax      15.000000\n"
     ]
    }
   ],
   "source": [
    "print(chipo.describe())"
   ]
  },
  {
   "cell_type": "code",
   "execution_count": 11,
   "metadata": {},
   "outputs": [
    {
     "output_type": "stream",
     "name": "stdout",
     "text": [
      "0          1\n1          1\n2          1\n3          1\n4          2\n        ... \n4617    1833\n4618    1833\n4619    1834\n4620    1834\n4621    1834\nName: order_id, Length: 4622, dtype: object\n"
     ]
    }
   ],
   "source": [
    "print(chipo['order_id'])"
   ]
  },
  {
   "cell_type": "code",
   "execution_count": 15,
   "metadata": {},
   "outputs": [],
   "source": [
    "item_count = chipo['item_name'].value_counts()[:10]"
   ]
  },
  {
   "cell_type": "code",
   "execution_count": 16,
   "metadata": {},
   "outputs": [
    {
     "output_type": "stream",
     "name": "stdout",
     "text": [
      "Chicken Bowl           726\nChicken Burrito        553\nChips and Guacamole    479\nSteak Burrito          368\nCanned Soft Drink      301\nSteak Bowl             211\nChips                  211\nBottled Water          162\nChicken Soft Tacos     115\nChicken Salad Bowl     110\nName: item_name, dtype: int64\n"
     ]
    }
   ],
   "source": [
    "print(item_count)"
   ]
  },
  {
   "cell_type": "code",
   "execution_count": 17,
   "metadata": {},
   "outputs": [
    {
     "output_type": "stream",
     "name": "stdout",
     "text": [
      "     order_id  quantity                              item_name  \\\n0           1         1           Chips and Fresh Tomato Salsa   \n1           1         1                                   Izze   \n2           1         1                       Nantucket Nectar   \n3           1         1  Chips and Tomatillo-Green Chili Salsa   \n4           2         2                           Chicken Bowl   \n...       ...       ...                                    ...   \n4617     1833         1                          Steak Burrito   \n4618     1833         1                          Steak Burrito   \n4619     1834         1                     Chicken Salad Bowl   \n4620     1834         1                     Chicken Salad Bowl   \n4621     1834         1                     Chicken Salad Bowl   \n\n                                     choice_description item_price  \n0                                                   NaN     $2.39   \n1                                          [Clementine]     $3.39   \n2                                               [Apple]     $3.39   \n3                                                   NaN     $2.39   \n4     [Tomatillo-Red Chili Salsa (Hot), [Black Beans...    $16.98   \n...                                                 ...        ...  \n4617  [Fresh Tomato Salsa, [Rice, Black Beans, Sour ...    $11.75   \n4618  [Fresh Tomato Salsa, [Rice, Sour Cream, Cheese...    $11.75   \n4619  [Fresh Tomato Salsa, [Fajita Vegetables, Pinto...    $11.25   \n4620  [Fresh Tomato Salsa, [Fajita Vegetables, Lettu...     $8.75   \n4621  [Fresh Tomato Salsa, [Fajita Vegetables, Pinto...     $8.75   \n\n[4622 rows x 5 columns]\n"
     ]
    }
   ],
   "source": [
    "print(chipo)"
   ]
  },
  {
   "cell_type": "code",
   "execution_count": 18,
   "metadata": {},
   "outputs": [],
   "source": [
    "order_count = chipo.groupby('item_name')['order_id'].count()"
   ]
  },
  {
   "cell_type": "code",
   "execution_count": 19,
   "metadata": {},
   "outputs": [
    {
     "output_type": "execute_result",
     "data": {
      "text/plain": [
       "item_name\n",
       "6 Pack Soft Drink         54\n",
       "Barbacoa Bowl             66\n",
       "Barbacoa Burrito          91\n",
       "Barbacoa Crispy Tacos     11\n",
       "Barbacoa Salad Bowl       10\n",
       "Barbacoa Soft Tacos       25\n",
       "Bottled Water            162\n",
       "Bowl                       2\n",
       "Burrito                    6\n",
       "Canned Soda              104\n",
       "Name: order_id, dtype: int64"
      ]
     },
     "metadata": {},
     "execution_count": 19
    }
   ],
   "source": [
    "order_count[:10]"
   ]
  },
  {
   "cell_type": "code",
   "execution_count": 20,
   "metadata": {},
   "outputs": [],
   "source": [
    "%matplotlib inline"
   ]
  },
  {
   "cell_type": "code",
   "execution_count": 21,
   "metadata": {},
   "outputs": [],
   "source": [
    "import numpy as np\n",
    "import matplotlib.pyplot as plt"
   ]
  },
  {
   "cell_type": "code",
   "execution_count": 22,
   "metadata": {},
   "outputs": [],
   "source": [
    "item_quantity = chipo.groupby('item_name')['quantity'].sum()"
   ]
  },
  {
   "cell_type": "code",
   "execution_count": 23,
   "metadata": {},
   "outputs": [
    {
     "output_type": "execute_result",
     "data": {
      "text/plain": [
       "item_name\n",
       "6 Pack Soft Drink         55\n",
       "Barbacoa Bowl             66\n",
       "Barbacoa Burrito          91\n",
       "Barbacoa Crispy Tacos     12\n",
       "Barbacoa Salad Bowl       10\n",
       "Barbacoa Soft Tacos       25\n",
       "Bottled Water            211\n",
       "Bowl                       4\n",
       "Burrito                    6\n",
       "Canned Soda              126\n",
       "Name: quantity, dtype: int64"
      ]
     },
     "metadata": {},
     "execution_count": 23
    }
   ],
   "source": [
    "item_quantity[:10]"
   ]
  },
  {
   "cell_type": "code",
   "execution_count": 24,
   "metadata": {},
   "outputs": [],
   "source": [
    "item_name_list = item_quantity.index.to_list()"
   ]
  },
  {
   "cell_type": "code",
   "execution_count": 25,
   "metadata": {},
   "outputs": [],
   "source": [
    "x_pos = np.arange(len(item_name_list))"
   ]
  },
  {
   "cell_type": "code",
   "execution_count": 26,
   "metadata": {},
   "outputs": [],
   "source": [
    "order_cnt = item_quantity.values.tolist()"
   ]
  },
  {
   "cell_type": "code",
   "execution_count": 28,
   "metadata": {},
   "outputs": [
    {
     "output_type": "execute_result",
     "data": {
      "text/plain": [
       "Text(0.5, 1.0, 'Distribution of all ordered item')"
      ]
     },
     "metadata": {},
     "execution_count": 28
    },
    {
     "output_type": "display_data",
     "data": {
      "text/plain": "<Figure size 432x288 with 1 Axes>",
      "image/svg+xml": "<?xml version=\"1.0\" encoding=\"utf-8\" standalone=\"no\"?>\n<!DOCTYPE svg PUBLIC \"-//W3C//DTD SVG 1.1//EN\"\n  \"http://www.w3.org/Graphics/SVG/1.1/DTD/svg11.dtd\">\n<svg height=\"263.63625pt\" version=\"1.1\" viewBox=\"0 0 389.24375 263.63625\" width=\"389.24375pt\" xmlns=\"http://www.w3.org/2000/svg\" xmlns:xlink=\"http://www.w3.org/1999/xlink\">\n <metadata>\n  <rdf:RDF xmlns:cc=\"http://creativecommons.org/ns#\" xmlns:dc=\"http://purl.org/dc/elements/1.1/\" xmlns:rdf=\"http://www.w3.org/1999/02/22-rdf-syntax-ns#\">\n   <cc:Work>\n    <dc:type rdf:resource=\"http://purl.org/dc/dcmitype/StillImage\"/>\n    <dc:date>2021-04-14T15:23:39.339261</dc:date>\n    <dc:format>image/svg+xml</dc:format>\n    <dc:creator>\n     <cc:Agent>\n      <dc:title>Matplotlib v3.4.1, https://matplotlib.org/</dc:title>\n     </cc:Agent>\n    </dc:creator>\n   </cc:Work>\n  </rdf:RDF>\n </metadata>\n <defs>\n  <style type=\"text/css\">*{stroke-linecap:butt;stroke-linejoin:round;}</style>\n </defs>\n <g id=\"figure_1\">\n  <g id=\"patch_1\">\n   <path d=\"M 0 263.63625 \nL 389.24375 263.63625 \nL 389.24375 0 \nL 0 0 \nz\n\" style=\"fill:none;\"/>\n  </g>\n  <g id=\"axes_1\">\n   <g id=\"patch_2\">\n    <path d=\"M 47.24375 239.758125 \nL 382.04375 239.758125 \nL 382.04375 22.318125 \nL 47.24375 22.318125 \nz\n\" style=\"fill:#ffffff;\"/>\n   </g>\n   <g id=\"patch_3\">\n    <path clip-path=\"url(#p0ccc9077cd)\" d=\"M 62.461932 239.758125 \nL 67.351308 239.758125 \nL 67.351308 224.791352 \nL 62.461932 224.791352 \nz\n\" style=\"fill:#1f77b4;\"/>\n   </g>\n   <g id=\"patch_4\">\n    <path clip-path=\"url(#p0ccc9077cd)\" d=\"M 68.573651 239.758125 \nL 73.463027 239.758125 \nL 73.463027 221.797997 \nL 68.573651 221.797997 \nz\n\" style=\"fill:#1f77b4;\"/>\n   </g>\n   <g id=\"patch_5\">\n    <path clip-path=\"url(#p0ccc9077cd)\" d=\"M 74.685371 239.758125 \nL 79.574747 239.758125 \nL 79.574747 214.994919 \nL 74.685371 214.994919 \nz\n\" style=\"fill:#1f77b4;\"/>\n   </g>\n   <g id=\"patch_6\">\n    <path clip-path=\"url(#p0ccc9077cd)\" d=\"M 80.797091 239.758125 \nL 85.686466 239.758125 \nL 85.686466 236.492647 \nL 80.797091 236.492647 \nz\n\" style=\"fill:#1f77b4;\"/>\n   </g>\n   <g id=\"patch_7\">\n    <path clip-path=\"url(#p0ccc9077cd)\" d=\"M 86.90881 239.758125 \nL 91.798186 239.758125 \nL 91.798186 237.036894 \nL 86.90881 237.036894 \nz\n\" style=\"fill:#1f77b4;\"/>\n   </g>\n   <g id=\"patch_8\">\n    <path clip-path=\"url(#p0ccc9077cd)\" d=\"M 93.02053 239.758125 \nL 97.909906 239.758125 \nL 97.909906 232.955046 \nL 93.02053 232.955046 \nz\n\" style=\"fill:#1f77b4;\"/>\n   </g>\n   <g id=\"patch_9\">\n    <path clip-path=\"url(#p0ccc9077cd)\" d=\"M 99.132249 239.758125 \nL 104.021625 239.758125 \nL 104.021625 182.340141 \nL 99.132249 182.340141 \nz\n\" style=\"fill:#1f77b4;\"/>\n   </g>\n   <g id=\"patch_10\">\n    <path clip-path=\"url(#p0ccc9077cd)\" d=\"M 105.243969 239.758125 \nL 110.133345 239.758125 \nL 110.133345 238.669632 \nL 105.243969 238.669632 \nz\n\" style=\"fill:#1f77b4;\"/>\n   </g>\n   <g id=\"patch_11\">\n    <path clip-path=\"url(#p0ccc9077cd)\" d=\"M 111.355689 239.758125 \nL 116.245064 239.758125 \nL 116.245064 238.125386 \nL 111.355689 238.125386 \nz\n\" style=\"fill:#1f77b4;\"/>\n   </g>\n   <g id=\"patch_12\">\n    <path clip-path=\"url(#p0ccc9077cd)\" d=\"M 117.467408 239.758125 \nL 122.356784 239.758125 \nL 122.356784 205.470609 \nL 117.467408 205.470609 \nz\n\" style=\"fill:#1f77b4;\"/>\n   </g>\n   <g id=\"patch_13\">\n    <path clip-path=\"url(#p0ccc9077cd)\" d=\"M 123.579128 239.758125 \nL 128.468504 239.758125 \nL 128.468504 144.242901 \nL 123.579128 144.242901 \nz\n\" style=\"fill:#1f77b4;\"/>\n   </g>\n   <g id=\"patch_14\">\n    <path clip-path=\"url(#p0ccc9077cd)\" d=\"M 129.690847 239.758125 \nL 134.580223 239.758125 \nL 134.580223 220.437382 \nL 129.690847 220.437382 \nz\n\" style=\"fill:#1f77b4;\"/>\n   </g>\n   <g id=\"patch_15\">\n    <path clip-path=\"url(#p0ccc9077cd)\" d=\"M 135.802567 239.758125 \nL 140.691943 239.758125 \nL 140.691943 223.430736 \nL 135.802567 223.430736 \nz\n\" style=\"fill:#1f77b4;\"/>\n   </g>\n   <g id=\"patch_16\">\n    <path clip-path=\"url(#p0ccc9077cd)\" d=\"M 141.914287 239.758125 \nL 146.803662 239.758125 \nL 146.803662 237.58114 \nL 141.914287 237.58114 \nz\n\" style=\"fill:#1f77b4;\"/>\n   </g>\n   <g id=\"patch_17\">\n    <path clip-path=\"url(#p0ccc9077cd)\" d=\"M 148.026006 239.758125 \nL 152.915382 239.758125 \nL 152.915382 239.486002 \nL 148.026006 239.486002 \nz\n\" style=\"fill:#1f77b4;\"/>\n   </g>\n   <g id=\"patch_18\">\n    <path clip-path=\"url(#p0ccc9077cd)\" d=\"M 154.137726 239.758125 \nL 159.027102 239.758125 \nL 159.027102 238.125386 \nL 154.137726 238.125386 \nz\n\" style=\"fill:#1f77b4;\"/>\n   </g>\n   <g id=\"patch_19\">\n    <path clip-path=\"url(#p0ccc9077cd)\" d=\"M 160.249446 239.758125 \nL 165.138821 239.758125 \nL 165.138821 228.873199 \nL 160.249446 228.873199 \nz\n\" style=\"fill:#1f77b4;\"/>\n   </g>\n   <g id=\"patch_20\">\n    <path clip-path=\"url(#p0ccc9077cd)\" d=\"M 166.361165 239.758125 \nL 171.250541 239.758125 \nL 171.250541 32.672411 \nL 166.361165 32.672411 \nz\n\" style=\"fill:#1f77b4;\"/>\n   </g>\n   <g id=\"patch_21\">\n    <path clip-path=\"url(#p0ccc9077cd)\" d=\"M 172.472885 239.758125 \nL 177.36226 239.758125 \nL 177.36226 78.933346 \nL 172.472885 78.933346 \nz\n\" style=\"fill:#1f77b4;\"/>\n   </g>\n   <g id=\"patch_22\">\n    <path clip-path=\"url(#p0ccc9077cd)\" d=\"M 178.584604 239.758125 \nL 183.47398 239.758125 \nL 183.47398 226.151968 \nL 178.584604 226.151968 \nz\n\" style=\"fill:#1f77b4;\"/>\n   </g>\n   <g id=\"patch_23\">\n    <path clip-path=\"url(#p0ccc9077cd)\" d=\"M 184.696324 239.758125 \nL 189.5857 239.758125 \nL 189.5857 237.309017 \nL 184.696324 237.309017 \nz\n\" style=\"fill:#1f77b4;\"/>\n   </g>\n   <g id=\"patch_24\">\n    <path clip-path=\"url(#p0ccc9077cd)\" d=\"M 190.808044 239.758125 \nL 195.697419 239.758125 \nL 195.697419 206.286978 \nL 190.808044 206.286978 \nz\n\" style=\"fill:#1f77b4;\"/>\n   </g>\n   <g id=\"patch_25\">\n    <path clip-path=\"url(#p0ccc9077cd)\" d=\"M 196.919763 239.758125 \nL 201.809139 239.758125 \nL 201.809139 207.103347 \nL 196.919763 207.103347 \nz\n\" style=\"fill:#1f77b4;\"/>\n   </g>\n   <g id=\"patch_26\">\n    <path clip-path=\"url(#p0ccc9077cd)\" d=\"M 203.031483 239.758125 \nL 207.920858 239.758125 \nL 207.920858 177.169801 \nL 203.031483 177.169801 \nz\n\" style=\"fill:#1f77b4;\"/>\n   </g>\n   <g id=\"patch_27\">\n    <path clip-path=\"url(#p0ccc9077cd)\" d=\"M 209.143202 239.758125 \nL 214.032578 239.758125 \nL 214.032578 204.382116 \nL 209.143202 204.382116 \nz\n\" style=\"fill:#1f77b4;\"/>\n   </g>\n   <g id=\"patch_28\">\n    <path clip-path=\"url(#p0ccc9077cd)\" d=\"M 215.254922 239.758125 \nL 220.144298 239.758125 \nL 220.144298 102.063813 \nL 215.254922 102.063813 \nz\n\" style=\"fill:#1f77b4;\"/>\n   </g>\n   <g id=\"patch_29\">\n    <path clip-path=\"url(#p0ccc9077cd)\" d=\"M 221.366642 239.758125 \nL 226.256017 239.758125 \nL 226.256017 239.486002 \nL 221.366642 239.486002 \nz\n\" style=\"fill:#1f77b4;\"/>\n   </g>\n   <g id=\"patch_30\">\n    <path clip-path=\"url(#p0ccc9077cd)\" d=\"M 227.478361 239.758125 \nL 232.367737 239.758125 \nL 232.367737 233.499293 \nL 227.478361 233.499293 \nz\n\" style=\"fill:#1f77b4;\"/>\n   </g>\n   <g id=\"patch_31\">\n    <path clip-path=\"url(#p0ccc9077cd)\" d=\"M 233.590081 239.758125 \nL 238.479456 239.758125 \nL 238.479456 234.859908 \nL 233.590081 234.859908 \nz\n\" style=\"fill:#1f77b4;\"/>\n   </g>\n   <g id=\"patch_32\">\n    <path clip-path=\"url(#p0ccc9077cd)\" d=\"M 239.7018 239.758125 \nL 244.591176 239.758125 \nL 244.591176 227.512583 \nL 239.7018 227.512583 \nz\n\" style=\"fill:#1f77b4;\"/>\n   </g>\n   <g id=\"patch_33\">\n    <path clip-path=\"url(#p0ccc9077cd)\" d=\"M 245.81352 239.758125 \nL 250.702896 239.758125 \nL 250.702896 226.151968 \nL 245.81352 226.151968 \nz\n\" style=\"fill:#1f77b4;\"/>\n   </g>\n   <g id=\"patch_34\">\n    <path clip-path=\"url(#p0ccc9077cd)\" d=\"M 251.92524 239.758125 \nL 256.814615 239.758125 \nL 256.814615 230.778061 \nL 251.92524 230.778061 \nz\n\" style=\"fill:#1f77b4;\"/>\n   </g>\n   <g id=\"patch_35\">\n    <path clip-path=\"url(#p0ccc9077cd)\" d=\"M 258.036959 239.758125 \nL 262.926335 239.758125 \nL 262.926335 232.955046 \nL 258.036959 232.955046 \nz\n\" style=\"fill:#1f77b4;\"/>\n   </g>\n   <g id=\"patch_36\">\n    <path clip-path=\"url(#p0ccc9077cd)\" d=\"M 264.148679 239.758125 \nL 269.038054 239.758125 \nL 269.038054 239.213879 \nL 264.148679 239.213879 \nz\n\" style=\"fill:#1f77b4;\"/>\n   </g>\n   <g id=\"patch_37\">\n    <path clip-path=\"url(#p0ccc9077cd)\" d=\"M 270.260398 239.758125 \nL 275.149774 239.758125 \nL 275.149774 234.315662 \nL 270.260398 234.315662 \nz\n\" style=\"fill:#1f77b4;\"/>\n   </g>\n   <g id=\"patch_38\">\n    <path clip-path=\"url(#p0ccc9077cd)\" d=\"M 276.372118 239.758125 \nL 281.261494 239.758125 \nL 281.261494 231.866554 \nL 276.372118 231.866554 \nz\n\" style=\"fill:#1f77b4;\"/>\n   </g>\n   <g id=\"patch_39\">\n    <path clip-path=\"url(#p0ccc9077cd)\" d=\"M 282.483838 239.758125 \nL 287.373213 239.758125 \nL 287.373213 239.213879 \nL 282.483838 239.213879 \nz\n\" style=\"fill:#1f77b4;\"/>\n   </g>\n   <g id=\"patch_40\">\n    <path clip-path=\"url(#p0ccc9077cd)\" d=\"M 288.595557 239.758125 \nL 293.484933 239.758125 \nL 293.484933 209.824579 \nL 288.595557 209.824579 \nz\n\" style=\"fill:#1f77b4;\"/>\n   </g>\n   <g id=\"patch_41\">\n    <path clip-path=\"url(#p0ccc9077cd)\" d=\"M 294.707277 239.758125 \nL 299.596653 239.758125 \nL 299.596653 179.61891 \nL 294.707277 179.61891 \nz\n\" style=\"fill:#1f77b4;\"/>\n   </g>\n   <g id=\"patch_42\">\n    <path clip-path=\"url(#p0ccc9077cd)\" d=\"M 300.818996 239.758125 \nL 305.708372 239.758125 \nL 305.708372 134.718591 \nL 300.818996 134.718591 \nz\n\" style=\"fill:#1f77b4;\"/>\n   </g>\n   <g id=\"patch_43\">\n    <path clip-path=\"url(#p0ccc9077cd)\" d=\"M 306.930716 239.758125 \nL 311.820092 239.758125 \nL 311.820092 229.961692 \nL 306.930716 229.961692 \nz\n\" style=\"fill:#1f77b4;\"/>\n   </g>\n   <g id=\"patch_44\">\n    <path clip-path=\"url(#p0ccc9077cd)\" d=\"M 313.042436 239.758125 \nL 317.931811 239.758125 \nL 317.931811 238.669632 \nL 313.042436 238.669632 \nz\n\" style=\"fill:#1f77b4;\"/>\n   </g>\n   <g id=\"patch_45\">\n    <path clip-path=\"url(#p0ccc9077cd)\" d=\"M 319.154155 239.758125 \nL 324.043531 239.758125 \nL 324.043531 231.322307 \nL 319.154155 231.322307 \nz\n\" style=\"fill:#1f77b4;\"/>\n   </g>\n   <g id=\"patch_46\">\n    <path clip-path=\"url(#p0ccc9077cd)\" d=\"M 325.265875 239.758125 \nL 330.155251 239.758125 \nL 330.155251 224.519229 \nL 325.265875 224.519229 \nz\n\" style=\"fill:#1f77b4;\"/>\n   </g>\n   <g id=\"patch_47\">\n    <path clip-path=\"url(#p0ccc9077cd)\" d=\"M 331.377594 239.758125 \nL 336.26697 239.758125 \nL 336.26697 216.083411 \nL 331.377594 216.083411 \nz\n\" style=\"fill:#1f77b4;\"/>\n   </g>\n   <g id=\"patch_48\">\n    <path clip-path=\"url(#p0ccc9077cd)\" d=\"M 337.489314 239.758125 \nL 342.37869 239.758125 \nL 342.37869 213.36218 \nL 337.489314 213.36218 \nz\n\" style=\"fill:#1f77b4;\"/>\n   </g>\n   <g id=\"patch_49\">\n    <path clip-path=\"url(#p0ccc9077cd)\" d=\"M 343.601034 239.758125 \nL 348.490409 239.758125 \nL 348.490409 239.486002 \nL 343.601034 239.486002 \nz\n\" style=\"fill:#1f77b4;\"/>\n   </g>\n   <g id=\"patch_50\">\n    <path clip-path=\"url(#p0ccc9077cd)\" d=\"M 349.712753 239.758125 \nL 354.602129 239.758125 \nL 354.602129 238.125386 \nL 349.712753 238.125386 \nz\n\" style=\"fill:#1f77b4;\"/>\n   </g>\n   <g id=\"patch_51\">\n    <path clip-path=\"url(#p0ccc9077cd)\" d=\"M 355.824473 239.758125 \nL 360.713849 239.758125 \nL 360.713849 234.859908 \nL 355.824473 234.859908 \nz\n\" style=\"fill:#1f77b4;\"/>\n   </g>\n   <g id=\"patch_52\">\n    <path clip-path=\"url(#p0ccc9077cd)\" d=\"M 361.936192 239.758125 \nL 366.825568 239.758125 \nL 366.825568 237.58114 \nL 361.936192 237.58114 \nz\n\" style=\"fill:#1f77b4;\"/>\n   </g>\n   <g id=\"matplotlib.axis_1\">\n    <g id=\"xtick_1\">\n     <g id=\"line2d_1\">\n      <defs>\n       <path d=\"M 0 0 \nL 0 3.5 \n\" id=\"m178b27735d\" style=\"stroke:#000000;stroke-width:0.8;\"/>\n      </defs>\n      <g>\n       <use style=\"stroke:#000000;stroke-width:0.8;\" x=\"64.90662\" xlink:href=\"#m178b27735d\" y=\"239.758125\"/>\n      </g>\n     </g>\n     <g id=\"text_1\">\n      <!-- 0 -->\n      <g transform=\"translate(61.72537 254.356563)scale(0.1 -0.1)\">\n       <defs>\n        <path d=\"M 2034 4250 \nQ 1547 4250 1301 3770 \nQ 1056 3291 1056 2328 \nQ 1056 1369 1301 889 \nQ 1547 409 2034 409 \nQ 2525 409 2770 889 \nQ 3016 1369 3016 2328 \nQ 3016 3291 2770 3770 \nQ 2525 4250 2034 4250 \nz\nM 2034 4750 \nQ 2819 4750 3233 4129 \nQ 3647 3509 3647 2328 \nQ 3647 1150 3233 529 \nQ 2819 -91 2034 -91 \nQ 1250 -91 836 529 \nQ 422 1150 422 2328 \nQ 422 3509 836 4129 \nQ 1250 4750 2034 4750 \nz\n\" id=\"DejaVuSans-30\" transform=\"scale(0.015625)\"/>\n       </defs>\n       <use xlink:href=\"#DejaVuSans-30\"/>\n      </g>\n     </g>\n    </g>\n    <g id=\"xtick_2\">\n     <g id=\"line2d_2\">\n      <g>\n       <use style=\"stroke:#000000;stroke-width:0.8;\" x=\"126.023816\" xlink:href=\"#m178b27735d\" y=\"239.758125\"/>\n      </g>\n     </g>\n     <g id=\"text_2\">\n      <!-- 10 -->\n      <g transform=\"translate(119.661316 254.356563)scale(0.1 -0.1)\">\n       <defs>\n        <path d=\"M 794 531 \nL 1825 531 \nL 1825 4091 \nL 703 3866 \nL 703 4441 \nL 1819 4666 \nL 2450 4666 \nL 2450 531 \nL 3481 531 \nL 3481 0 \nL 794 0 \nL 794 531 \nz\n\" id=\"DejaVuSans-31\" transform=\"scale(0.015625)\"/>\n       </defs>\n       <use xlink:href=\"#DejaVuSans-31\"/>\n       <use x=\"63.623047\" xlink:href=\"#DejaVuSans-30\"/>\n      </g>\n     </g>\n    </g>\n    <g id=\"xtick_3\">\n     <g id=\"line2d_3\">\n      <g>\n       <use style=\"stroke:#000000;stroke-width:0.8;\" x=\"187.141012\" xlink:href=\"#m178b27735d\" y=\"239.758125\"/>\n      </g>\n     </g>\n     <g id=\"text_3\">\n      <!-- 20 -->\n      <g transform=\"translate(180.778512 254.356563)scale(0.1 -0.1)\">\n       <defs>\n        <path d=\"M 1228 531 \nL 3431 531 \nL 3431 0 \nL 469 0 \nL 469 531 \nQ 828 903 1448 1529 \nQ 2069 2156 2228 2338 \nQ 2531 2678 2651 2914 \nQ 2772 3150 2772 3378 \nQ 2772 3750 2511 3984 \nQ 2250 4219 1831 4219 \nQ 1534 4219 1204 4116 \nQ 875 4013 500 3803 \nL 500 4441 \nQ 881 4594 1212 4672 \nQ 1544 4750 1819 4750 \nQ 2544 4750 2975 4387 \nQ 3406 4025 3406 3419 \nQ 3406 3131 3298 2873 \nQ 3191 2616 2906 2266 \nQ 2828 2175 2409 1742 \nQ 1991 1309 1228 531 \nz\n\" id=\"DejaVuSans-32\" transform=\"scale(0.015625)\"/>\n       </defs>\n       <use xlink:href=\"#DejaVuSans-32\"/>\n       <use x=\"63.623047\" xlink:href=\"#DejaVuSans-30\"/>\n      </g>\n     </g>\n    </g>\n    <g id=\"xtick_4\">\n     <g id=\"line2d_4\">\n      <g>\n       <use style=\"stroke:#000000;stroke-width:0.8;\" x=\"248.258208\" xlink:href=\"#m178b27735d\" y=\"239.758125\"/>\n      </g>\n     </g>\n     <g id=\"text_4\">\n      <!-- 30 -->\n      <g transform=\"translate(241.895708 254.356563)scale(0.1 -0.1)\">\n       <defs>\n        <path d=\"M 2597 2516 \nQ 3050 2419 3304 2112 \nQ 3559 1806 3559 1356 \nQ 3559 666 3084 287 \nQ 2609 -91 1734 -91 \nQ 1441 -91 1130 -33 \nQ 819 25 488 141 \nL 488 750 \nQ 750 597 1062 519 \nQ 1375 441 1716 441 \nQ 2309 441 2620 675 \nQ 2931 909 2931 1356 \nQ 2931 1769 2642 2001 \nQ 2353 2234 1838 2234 \nL 1294 2234 \nL 1294 2753 \nL 1863 2753 \nQ 2328 2753 2575 2939 \nQ 2822 3125 2822 3475 \nQ 2822 3834 2567 4026 \nQ 2313 4219 1838 4219 \nQ 1578 4219 1281 4162 \nQ 984 4106 628 3988 \nL 628 4550 \nQ 988 4650 1302 4700 \nQ 1616 4750 1894 4750 \nQ 2613 4750 3031 4423 \nQ 3450 4097 3450 3541 \nQ 3450 3153 3228 2886 \nQ 3006 2619 2597 2516 \nz\n\" id=\"DejaVuSans-33\" transform=\"scale(0.015625)\"/>\n       </defs>\n       <use xlink:href=\"#DejaVuSans-33\"/>\n       <use x=\"63.623047\" xlink:href=\"#DejaVuSans-30\"/>\n      </g>\n     </g>\n    </g>\n    <g id=\"xtick_5\">\n     <g id=\"line2d_5\">\n      <g>\n       <use style=\"stroke:#000000;stroke-width:0.8;\" x=\"309.375404\" xlink:href=\"#m178b27735d\" y=\"239.758125\"/>\n      </g>\n     </g>\n     <g id=\"text_5\">\n      <!-- 40 -->\n      <g transform=\"translate(303.012904 254.356563)scale(0.1 -0.1)\">\n       <defs>\n        <path d=\"M 2419 4116 \nL 825 1625 \nL 2419 1625 \nL 2419 4116 \nz\nM 2253 4666 \nL 3047 4666 \nL 3047 1625 \nL 3713 1625 \nL 3713 1100 \nL 3047 1100 \nL 3047 0 \nL 2419 0 \nL 2419 1100 \nL 313 1100 \nL 313 1709 \nL 2253 4666 \nz\n\" id=\"DejaVuSans-34\" transform=\"scale(0.015625)\"/>\n       </defs>\n       <use xlink:href=\"#DejaVuSans-34\"/>\n       <use x=\"63.623047\" xlink:href=\"#DejaVuSans-30\"/>\n      </g>\n     </g>\n    </g>\n    <g id=\"xtick_6\">\n     <g id=\"line2d_6\">\n      <g>\n       <use style=\"stroke:#000000;stroke-width:0.8;\" x=\"370.4926\" xlink:href=\"#m178b27735d\" y=\"239.758125\"/>\n      </g>\n     </g>\n     <g id=\"text_6\">\n      <!-- 50 -->\n      <g transform=\"translate(364.1301 254.356563)scale(0.1 -0.1)\">\n       <defs>\n        <path d=\"M 691 4666 \nL 3169 4666 \nL 3169 4134 \nL 1269 4134 \nL 1269 2991 \nQ 1406 3038 1543 3061 \nQ 1681 3084 1819 3084 \nQ 2600 3084 3056 2656 \nQ 3513 2228 3513 1497 \nQ 3513 744 3044 326 \nQ 2575 -91 1722 -91 \nQ 1428 -91 1123 -41 \nQ 819 9 494 109 \nL 494 744 \nQ 775 591 1075 516 \nQ 1375 441 1709 441 \nQ 2250 441 2565 725 \nQ 2881 1009 2881 1497 \nQ 2881 1984 2565 2268 \nQ 2250 2553 1709 2553 \nQ 1456 2553 1204 2497 \nQ 953 2441 691 2322 \nL 691 4666 \nz\n\" id=\"DejaVuSans-35\" transform=\"scale(0.015625)\"/>\n       </defs>\n       <use xlink:href=\"#DejaVuSans-35\"/>\n       <use x=\"63.623047\" xlink:href=\"#DejaVuSans-30\"/>\n      </g>\n     </g>\n    </g>\n   </g>\n   <g id=\"matplotlib.axis_2\">\n    <g id=\"ytick_1\">\n     <g id=\"line2d_7\">\n      <defs>\n       <path d=\"M 0 0 \nL -3.5 0 \n\" id=\"mf67d625999\" style=\"stroke:#000000;stroke-width:0.8;\"/>\n      </defs>\n      <g>\n       <use style=\"stroke:#000000;stroke-width:0.8;\" x=\"47.24375\" xlink:href=\"#mf67d625999\" y=\"239.758125\"/>\n      </g>\n     </g>\n     <g id=\"text_7\">\n      <!-- 0 -->\n      <g transform=\"translate(33.88125 243.557344)scale(0.1 -0.1)\">\n       <use xlink:href=\"#DejaVuSans-30\"/>\n      </g>\n     </g>\n    </g>\n    <g id=\"ytick_2\">\n     <g id=\"line2d_8\">\n      <g>\n       <use style=\"stroke:#000000;stroke-width:0.8;\" x=\"47.24375\" xlink:href=\"#mf67d625999\" y=\"212.54581\"/>\n      </g>\n     </g>\n     <g id=\"text_8\">\n      <!-- 100 -->\n      <g transform=\"translate(21.15625 216.345029)scale(0.1 -0.1)\">\n       <use xlink:href=\"#DejaVuSans-31\"/>\n       <use x=\"63.623047\" xlink:href=\"#DejaVuSans-30\"/>\n       <use x=\"127.246094\" xlink:href=\"#DejaVuSans-30\"/>\n      </g>\n     </g>\n    </g>\n    <g id=\"ytick_3\">\n     <g id=\"line2d_9\">\n      <g>\n       <use style=\"stroke:#000000;stroke-width:0.8;\" x=\"47.24375\" xlink:href=\"#mf67d625999\" y=\"185.333496\"/>\n      </g>\n     </g>\n     <g id=\"text_9\">\n      <!-- 200 -->\n      <g transform=\"translate(21.15625 189.132715)scale(0.1 -0.1)\">\n       <use xlink:href=\"#DejaVuSans-32\"/>\n       <use x=\"63.623047\" xlink:href=\"#DejaVuSans-30\"/>\n       <use x=\"127.246094\" xlink:href=\"#DejaVuSans-30\"/>\n      </g>\n     </g>\n    </g>\n    <g id=\"ytick_4\">\n     <g id=\"line2d_10\">\n      <g>\n       <use style=\"stroke:#000000;stroke-width:0.8;\" x=\"47.24375\" xlink:href=\"#mf67d625999\" y=\"158.121181\"/>\n      </g>\n     </g>\n     <g id=\"text_10\">\n      <!-- 300 -->\n      <g transform=\"translate(21.15625 161.9204)scale(0.1 -0.1)\">\n       <use xlink:href=\"#DejaVuSans-33\"/>\n       <use x=\"63.623047\" xlink:href=\"#DejaVuSans-30\"/>\n       <use x=\"127.246094\" xlink:href=\"#DejaVuSans-30\"/>\n      </g>\n     </g>\n    </g>\n    <g id=\"ytick_5\">\n     <g id=\"line2d_11\">\n      <g>\n       <use style=\"stroke:#000000;stroke-width:0.8;\" x=\"47.24375\" xlink:href=\"#mf67d625999\" y=\"130.908867\"/>\n      </g>\n     </g>\n     <g id=\"text_11\">\n      <!-- 400 -->\n      <g transform=\"translate(21.15625 134.708085)scale(0.1 -0.1)\">\n       <use xlink:href=\"#DejaVuSans-34\"/>\n       <use x=\"63.623047\" xlink:href=\"#DejaVuSans-30\"/>\n       <use x=\"127.246094\" xlink:href=\"#DejaVuSans-30\"/>\n      </g>\n     </g>\n    </g>\n    <g id=\"ytick_6\">\n     <g id=\"line2d_12\">\n      <g>\n       <use style=\"stroke:#000000;stroke-width:0.8;\" x=\"47.24375\" xlink:href=\"#mf67d625999\" y=\"103.696552\"/>\n      </g>\n     </g>\n     <g id=\"text_12\">\n      <!-- 500 -->\n      <g transform=\"translate(21.15625 107.495771)scale(0.1 -0.1)\">\n       <use xlink:href=\"#DejaVuSans-35\"/>\n       <use x=\"63.623047\" xlink:href=\"#DejaVuSans-30\"/>\n       <use x=\"127.246094\" xlink:href=\"#DejaVuSans-30\"/>\n      </g>\n     </g>\n    </g>\n    <g id=\"ytick_7\">\n     <g id=\"line2d_13\">\n      <g>\n       <use style=\"stroke:#000000;stroke-width:0.8;\" x=\"47.24375\" xlink:href=\"#mf67d625999\" y=\"76.484237\"/>\n      </g>\n     </g>\n     <g id=\"text_13\">\n      <!-- 600 -->\n      <g transform=\"translate(21.15625 80.283456)scale(0.1 -0.1)\">\n       <defs>\n        <path d=\"M 2113 2584 \nQ 1688 2584 1439 2293 \nQ 1191 2003 1191 1497 \nQ 1191 994 1439 701 \nQ 1688 409 2113 409 \nQ 2538 409 2786 701 \nQ 3034 994 3034 1497 \nQ 3034 2003 2786 2293 \nQ 2538 2584 2113 2584 \nz\nM 3366 4563 \nL 3366 3988 \nQ 3128 4100 2886 4159 \nQ 2644 4219 2406 4219 \nQ 1781 4219 1451 3797 \nQ 1122 3375 1075 2522 \nQ 1259 2794 1537 2939 \nQ 1816 3084 2150 3084 \nQ 2853 3084 3261 2657 \nQ 3669 2231 3669 1497 \nQ 3669 778 3244 343 \nQ 2819 -91 2113 -91 \nQ 1303 -91 875 529 \nQ 447 1150 447 2328 \nQ 447 3434 972 4092 \nQ 1497 4750 2381 4750 \nQ 2619 4750 2861 4703 \nQ 3103 4656 3366 4563 \nz\n\" id=\"DejaVuSans-36\" transform=\"scale(0.015625)\"/>\n       </defs>\n       <use xlink:href=\"#DejaVuSans-36\"/>\n       <use x=\"63.623047\" xlink:href=\"#DejaVuSans-30\"/>\n       <use x=\"127.246094\" xlink:href=\"#DejaVuSans-30\"/>\n      </g>\n     </g>\n    </g>\n    <g id=\"ytick_8\">\n     <g id=\"line2d_14\">\n      <g>\n       <use style=\"stroke:#000000;stroke-width:0.8;\" x=\"47.24375\" xlink:href=\"#mf67d625999\" y=\"49.271923\"/>\n      </g>\n     </g>\n     <g id=\"text_14\">\n      <!-- 700 -->\n      <g transform=\"translate(21.15625 53.071141)scale(0.1 -0.1)\">\n       <defs>\n        <path d=\"M 525 4666 \nL 3525 4666 \nL 3525 4397 \nL 1831 0 \nL 1172 0 \nL 2766 4134 \nL 525 4134 \nL 525 4666 \nz\n\" id=\"DejaVuSans-37\" transform=\"scale(0.015625)\"/>\n       </defs>\n       <use xlink:href=\"#DejaVuSans-37\"/>\n       <use x=\"63.623047\" xlink:href=\"#DejaVuSans-30\"/>\n       <use x=\"127.246094\" xlink:href=\"#DejaVuSans-30\"/>\n      </g>\n     </g>\n    </g>\n    <g id=\"text_15\">\n     <!-- ordered_item_count -->\n     <g transform=\"translate(14.798438 180.912344)rotate(-90)scale(0.1 -0.1)\">\n      <defs>\n       <path d=\"M 1959 3097 \nQ 1497 3097 1228 2736 \nQ 959 2375 959 1747 \nQ 959 1119 1226 758 \nQ 1494 397 1959 397 \nQ 2419 397 2687 759 \nQ 2956 1122 2956 1747 \nQ 2956 2369 2687 2733 \nQ 2419 3097 1959 3097 \nz\nM 1959 3584 \nQ 2709 3584 3137 3096 \nQ 3566 2609 3566 1747 \nQ 3566 888 3137 398 \nQ 2709 -91 1959 -91 \nQ 1206 -91 779 398 \nQ 353 888 353 1747 \nQ 353 2609 779 3096 \nQ 1206 3584 1959 3584 \nz\n\" id=\"DejaVuSans-6f\" transform=\"scale(0.015625)\"/>\n       <path d=\"M 2631 2963 \nQ 2534 3019 2420 3045 \nQ 2306 3072 2169 3072 \nQ 1681 3072 1420 2755 \nQ 1159 2438 1159 1844 \nL 1159 0 \nL 581 0 \nL 581 3500 \nL 1159 3500 \nL 1159 2956 \nQ 1341 3275 1631 3429 \nQ 1922 3584 2338 3584 \nQ 2397 3584 2469 3576 \nQ 2541 3569 2628 3553 \nL 2631 2963 \nz\n\" id=\"DejaVuSans-72\" transform=\"scale(0.015625)\"/>\n       <path d=\"M 2906 2969 \nL 2906 4863 \nL 3481 4863 \nL 3481 0 \nL 2906 0 \nL 2906 525 \nQ 2725 213 2448 61 \nQ 2172 -91 1784 -91 \nQ 1150 -91 751 415 \nQ 353 922 353 1747 \nQ 353 2572 751 3078 \nQ 1150 3584 1784 3584 \nQ 2172 3584 2448 3432 \nQ 2725 3281 2906 2969 \nz\nM 947 1747 \nQ 947 1113 1208 752 \nQ 1469 391 1925 391 \nQ 2381 391 2643 752 \nQ 2906 1113 2906 1747 \nQ 2906 2381 2643 2742 \nQ 2381 3103 1925 3103 \nQ 1469 3103 1208 2742 \nQ 947 2381 947 1747 \nz\n\" id=\"DejaVuSans-64\" transform=\"scale(0.015625)\"/>\n       <path d=\"M 3597 1894 \nL 3597 1613 \nL 953 1613 \nQ 991 1019 1311 708 \nQ 1631 397 2203 397 \nQ 2534 397 2845 478 \nQ 3156 559 3463 722 \nL 3463 178 \nQ 3153 47 2828 -22 \nQ 2503 -91 2169 -91 \nQ 1331 -91 842 396 \nQ 353 884 353 1716 \nQ 353 2575 817 3079 \nQ 1281 3584 2069 3584 \nQ 2775 3584 3186 3129 \nQ 3597 2675 3597 1894 \nz\nM 3022 2063 \nQ 3016 2534 2758 2815 \nQ 2500 3097 2075 3097 \nQ 1594 3097 1305 2825 \nQ 1016 2553 972 2059 \nL 3022 2063 \nz\n\" id=\"DejaVuSans-65\" transform=\"scale(0.015625)\"/>\n       <path d=\"M 3263 -1063 \nL 3263 -1509 \nL -63 -1509 \nL -63 -1063 \nL 3263 -1063 \nz\n\" id=\"DejaVuSans-5f\" transform=\"scale(0.015625)\"/>\n       <path d=\"M 603 3500 \nL 1178 3500 \nL 1178 0 \nL 603 0 \nL 603 3500 \nz\nM 603 4863 \nL 1178 4863 \nL 1178 4134 \nL 603 4134 \nL 603 4863 \nz\n\" id=\"DejaVuSans-69\" transform=\"scale(0.015625)\"/>\n       <path d=\"M 1172 4494 \nL 1172 3500 \nL 2356 3500 \nL 2356 3053 \nL 1172 3053 \nL 1172 1153 \nQ 1172 725 1289 603 \nQ 1406 481 1766 481 \nL 2356 481 \nL 2356 0 \nL 1766 0 \nQ 1100 0 847 248 \nQ 594 497 594 1153 \nL 594 3053 \nL 172 3053 \nL 172 3500 \nL 594 3500 \nL 594 4494 \nL 1172 4494 \nz\n\" id=\"DejaVuSans-74\" transform=\"scale(0.015625)\"/>\n       <path d=\"M 3328 2828 \nQ 3544 3216 3844 3400 \nQ 4144 3584 4550 3584 \nQ 5097 3584 5394 3201 \nQ 5691 2819 5691 2113 \nL 5691 0 \nL 5113 0 \nL 5113 2094 \nQ 5113 2597 4934 2840 \nQ 4756 3084 4391 3084 \nQ 3944 3084 3684 2787 \nQ 3425 2491 3425 1978 \nL 3425 0 \nL 2847 0 \nL 2847 2094 \nQ 2847 2600 2669 2842 \nQ 2491 3084 2119 3084 \nQ 1678 3084 1418 2786 \nQ 1159 2488 1159 1978 \nL 1159 0 \nL 581 0 \nL 581 3500 \nL 1159 3500 \nL 1159 2956 \nQ 1356 3278 1631 3431 \nQ 1906 3584 2284 3584 \nQ 2666 3584 2933 3390 \nQ 3200 3197 3328 2828 \nz\n\" id=\"DejaVuSans-6d\" transform=\"scale(0.015625)\"/>\n       <path d=\"M 3122 3366 \nL 3122 2828 \nQ 2878 2963 2633 3030 \nQ 2388 3097 2138 3097 \nQ 1578 3097 1268 2742 \nQ 959 2388 959 1747 \nQ 959 1106 1268 751 \nQ 1578 397 2138 397 \nQ 2388 397 2633 464 \nQ 2878 531 3122 666 \nL 3122 134 \nQ 2881 22 2623 -34 \nQ 2366 -91 2075 -91 \nQ 1284 -91 818 406 \nQ 353 903 353 1747 \nQ 353 2603 823 3093 \nQ 1294 3584 2113 3584 \nQ 2378 3584 2631 3529 \nQ 2884 3475 3122 3366 \nz\n\" id=\"DejaVuSans-63\" transform=\"scale(0.015625)\"/>\n       <path d=\"M 544 1381 \nL 544 3500 \nL 1119 3500 \nL 1119 1403 \nQ 1119 906 1312 657 \nQ 1506 409 1894 409 \nQ 2359 409 2629 706 \nQ 2900 1003 2900 1516 \nL 2900 3500 \nL 3475 3500 \nL 3475 0 \nL 2900 0 \nL 2900 538 \nQ 2691 219 2414 64 \nQ 2138 -91 1772 -91 \nQ 1169 -91 856 284 \nQ 544 659 544 1381 \nz\nM 1991 3584 \nL 1991 3584 \nz\n\" id=\"DejaVuSans-75\" transform=\"scale(0.015625)\"/>\n       <path d=\"M 3513 2113 \nL 3513 0 \nL 2938 0 \nL 2938 2094 \nQ 2938 2591 2744 2837 \nQ 2550 3084 2163 3084 \nQ 1697 3084 1428 2787 \nQ 1159 2491 1159 1978 \nL 1159 0 \nL 581 0 \nL 581 3500 \nL 1159 3500 \nL 1159 2956 \nQ 1366 3272 1645 3428 \nQ 1925 3584 2291 3584 \nQ 2894 3584 3203 3211 \nQ 3513 2838 3513 2113 \nz\n\" id=\"DejaVuSans-6e\" transform=\"scale(0.015625)\"/>\n      </defs>\n      <use xlink:href=\"#DejaVuSans-6f\"/>\n      <use x=\"61.181641\" xlink:href=\"#DejaVuSans-72\"/>\n      <use x=\"100.544922\" xlink:href=\"#DejaVuSans-64\"/>\n      <use x=\"164.021484\" xlink:href=\"#DejaVuSans-65\"/>\n      <use x=\"225.544922\" xlink:href=\"#DejaVuSans-72\"/>\n      <use x=\"264.408203\" xlink:href=\"#DejaVuSans-65\"/>\n      <use x=\"325.931641\" xlink:href=\"#DejaVuSans-64\"/>\n      <use x=\"389.408203\" xlink:href=\"#DejaVuSans-5f\"/>\n      <use x=\"439.408203\" xlink:href=\"#DejaVuSans-69\"/>\n      <use x=\"467.191406\" xlink:href=\"#DejaVuSans-74\"/>\n      <use x=\"506.400391\" xlink:href=\"#DejaVuSans-65\"/>\n      <use x=\"567.923828\" xlink:href=\"#DejaVuSans-6d\"/>\n      <use x=\"665.335938\" xlink:href=\"#DejaVuSans-5f\"/>\n      <use x=\"715.335938\" xlink:href=\"#DejaVuSans-63\"/>\n      <use x=\"770.316406\" xlink:href=\"#DejaVuSans-6f\"/>\n      <use x=\"831.498047\" xlink:href=\"#DejaVuSans-75\"/>\n      <use x=\"894.876953\" xlink:href=\"#DejaVuSans-6e\"/>\n      <use x=\"958.255859\" xlink:href=\"#DejaVuSans-74\"/>\n     </g>\n    </g>\n   </g>\n   <g id=\"patch_53\">\n    <path d=\"M 47.24375 239.758125 \nL 47.24375 22.318125 \n\" style=\"fill:none;stroke:#000000;stroke-linecap:square;stroke-linejoin:miter;stroke-width:0.8;\"/>\n   </g>\n   <g id=\"patch_54\">\n    <path d=\"M 382.04375 239.758125 \nL 382.04375 22.318125 \n\" style=\"fill:none;stroke:#000000;stroke-linecap:square;stroke-linejoin:miter;stroke-width:0.8;\"/>\n   </g>\n   <g id=\"patch_55\">\n    <path d=\"M 47.24375 239.758125 \nL 382.04375 239.758125 \n\" style=\"fill:none;stroke:#000000;stroke-linecap:square;stroke-linejoin:miter;stroke-width:0.8;\"/>\n   </g>\n   <g id=\"patch_56\">\n    <path d=\"M 47.24375 22.318125 \nL 382.04375 22.318125 \n\" style=\"fill:none;stroke:#000000;stroke-linecap:square;stroke-linejoin:miter;stroke-width:0.8;\"/>\n   </g>\n   <g id=\"text_16\">\n    <!-- Distribution of all ordered item -->\n    <g transform=\"translate(122.298125 16.318125)scale(0.12 -0.12)\">\n     <defs>\n      <path d=\"M 1259 4147 \nL 1259 519 \nL 2022 519 \nQ 2988 519 3436 956 \nQ 3884 1394 3884 2338 \nQ 3884 3275 3436 3711 \nQ 2988 4147 2022 4147 \nL 1259 4147 \nz\nM 628 4666 \nL 1925 4666 \nQ 3281 4666 3915 4102 \nQ 4550 3538 4550 2338 \nQ 4550 1131 3912 565 \nQ 3275 0 1925 0 \nL 628 0 \nL 628 4666 \nz\n\" id=\"DejaVuSans-44\" transform=\"scale(0.015625)\"/>\n      <path d=\"M 2834 3397 \nL 2834 2853 \nQ 2591 2978 2328 3040 \nQ 2066 3103 1784 3103 \nQ 1356 3103 1142 2972 \nQ 928 2841 928 2578 \nQ 928 2378 1081 2264 \nQ 1234 2150 1697 2047 \nL 1894 2003 \nQ 2506 1872 2764 1633 \nQ 3022 1394 3022 966 \nQ 3022 478 2636 193 \nQ 2250 -91 1575 -91 \nQ 1294 -91 989 -36 \nQ 684 19 347 128 \nL 347 722 \nQ 666 556 975 473 \nQ 1284 391 1588 391 \nQ 1994 391 2212 530 \nQ 2431 669 2431 922 \nQ 2431 1156 2273 1281 \nQ 2116 1406 1581 1522 \nL 1381 1569 \nQ 847 1681 609 1914 \nQ 372 2147 372 2553 \nQ 372 3047 722 3315 \nQ 1072 3584 1716 3584 \nQ 2034 3584 2315 3537 \nQ 2597 3491 2834 3397 \nz\n\" id=\"DejaVuSans-73\" transform=\"scale(0.015625)\"/>\n      <path d=\"M 3116 1747 \nQ 3116 2381 2855 2742 \nQ 2594 3103 2138 3103 \nQ 1681 3103 1420 2742 \nQ 1159 2381 1159 1747 \nQ 1159 1113 1420 752 \nQ 1681 391 2138 391 \nQ 2594 391 2855 752 \nQ 3116 1113 3116 1747 \nz\nM 1159 2969 \nQ 1341 3281 1617 3432 \nQ 1894 3584 2278 3584 \nQ 2916 3584 3314 3078 \nQ 3713 2572 3713 1747 \nQ 3713 922 3314 415 \nQ 2916 -91 2278 -91 \nQ 1894 -91 1617 61 \nQ 1341 213 1159 525 \nL 1159 0 \nL 581 0 \nL 581 4863 \nL 1159 4863 \nL 1159 2969 \nz\n\" id=\"DejaVuSans-62\" transform=\"scale(0.015625)\"/>\n      <path id=\"DejaVuSans-20\" transform=\"scale(0.015625)\"/>\n      <path d=\"M 2375 4863 \nL 2375 4384 \nL 1825 4384 \nQ 1516 4384 1395 4259 \nQ 1275 4134 1275 3809 \nL 1275 3500 \nL 2222 3500 \nL 2222 3053 \nL 1275 3053 \nL 1275 0 \nL 697 0 \nL 697 3053 \nL 147 3053 \nL 147 3500 \nL 697 3500 \nL 697 3744 \nQ 697 4328 969 4595 \nQ 1241 4863 1831 4863 \nL 2375 4863 \nz\n\" id=\"DejaVuSans-66\" transform=\"scale(0.015625)\"/>\n      <path d=\"M 2194 1759 \nQ 1497 1759 1228 1600 \nQ 959 1441 959 1056 \nQ 959 750 1161 570 \nQ 1363 391 1709 391 \nQ 2188 391 2477 730 \nQ 2766 1069 2766 1631 \nL 2766 1759 \nL 2194 1759 \nz\nM 3341 1997 \nL 3341 0 \nL 2766 0 \nL 2766 531 \nQ 2569 213 2275 61 \nQ 1981 -91 1556 -91 \nQ 1019 -91 701 211 \nQ 384 513 384 1019 \nQ 384 1609 779 1909 \nQ 1175 2209 1959 2209 \nL 2766 2209 \nL 2766 2266 \nQ 2766 2663 2505 2880 \nQ 2244 3097 1772 3097 \nQ 1472 3097 1187 3025 \nQ 903 2953 641 2809 \nL 641 3341 \nQ 956 3463 1253 3523 \nQ 1550 3584 1831 3584 \nQ 2591 3584 2966 3190 \nQ 3341 2797 3341 1997 \nz\n\" id=\"DejaVuSans-61\" transform=\"scale(0.015625)\"/>\n      <path d=\"M 603 4863 \nL 1178 4863 \nL 1178 0 \nL 603 0 \nL 603 4863 \nz\n\" id=\"DejaVuSans-6c\" transform=\"scale(0.015625)\"/>\n     </defs>\n     <use xlink:href=\"#DejaVuSans-44\"/>\n     <use x=\"77.001953\" xlink:href=\"#DejaVuSans-69\"/>\n     <use x=\"104.785156\" xlink:href=\"#DejaVuSans-73\"/>\n     <use x=\"156.884766\" xlink:href=\"#DejaVuSans-74\"/>\n     <use x=\"196.09375\" xlink:href=\"#DejaVuSans-72\"/>\n     <use x=\"237.207031\" xlink:href=\"#DejaVuSans-69\"/>\n     <use x=\"264.990234\" xlink:href=\"#DejaVuSans-62\"/>\n     <use x=\"328.466797\" xlink:href=\"#DejaVuSans-75\"/>\n     <use x=\"391.845703\" xlink:href=\"#DejaVuSans-74\"/>\n     <use x=\"431.054688\" xlink:href=\"#DejaVuSans-69\"/>\n     <use x=\"458.837891\" xlink:href=\"#DejaVuSans-6f\"/>\n     <use x=\"520.019531\" xlink:href=\"#DejaVuSans-6e\"/>\n     <use x=\"583.398438\" xlink:href=\"#DejaVuSans-20\"/>\n     <use x=\"615.185547\" xlink:href=\"#DejaVuSans-6f\"/>\n     <use x=\"676.367188\" xlink:href=\"#DejaVuSans-66\"/>\n     <use x=\"711.572266\" xlink:href=\"#DejaVuSans-20\"/>\n     <use x=\"743.359375\" xlink:href=\"#DejaVuSans-61\"/>\n     <use x=\"804.638672\" xlink:href=\"#DejaVuSans-6c\"/>\n     <use x=\"832.421875\" xlink:href=\"#DejaVuSans-6c\"/>\n     <use x=\"860.205078\" xlink:href=\"#DejaVuSans-20\"/>\n     <use x=\"891.992188\" xlink:href=\"#DejaVuSans-6f\"/>\n     <use x=\"953.173828\" xlink:href=\"#DejaVuSans-72\"/>\n     <use x=\"992.537109\" xlink:href=\"#DejaVuSans-64\"/>\n     <use x=\"1056.013672\" xlink:href=\"#DejaVuSans-65\"/>\n     <use x=\"1117.537109\" xlink:href=\"#DejaVuSans-72\"/>\n     <use x=\"1156.400391\" xlink:href=\"#DejaVuSans-65\"/>\n     <use x=\"1217.923828\" xlink:href=\"#DejaVuSans-64\"/>\n     <use x=\"1281.400391\" xlink:href=\"#DejaVuSans-20\"/>\n     <use x=\"1313.1875\" xlink:href=\"#DejaVuSans-69\"/>\n     <use x=\"1340.970703\" xlink:href=\"#DejaVuSans-74\"/>\n     <use x=\"1380.179688\" xlink:href=\"#DejaVuSans-65\"/>\n     <use x=\"1441.703125\" xlink:href=\"#DejaVuSans-6d\"/>\n    </g>\n   </g>\n  </g>\n </g>\n <defs>\n  <clipPath id=\"p0ccc9077cd\">\n   <rect height=\"217.44\" width=\"334.8\" x=\"47.24375\" y=\"22.318125\"/>\n  </clipPath>\n </defs>\n</svg>\n",
      "image/png": "[encoded data removed]"
     },
     "metadata": {
      "needs_background": "light"
     }
    }
   ],
   "source": [
    "plt.bar(x_pos, order_cnt, align='center')\n",
    "plt.ylabel('ordered_item_count')\n",
    "plt.title('Distribution of all ordered item')"
   ]
  },
  {
   "cell_type": "code",
   "execution_count": 29,
   "metadata": {},
   "outputs": [
    {
     "output_type": "stream",
     "name": "stdout",
     "text": [
      "<class 'pandas.core.frame.DataFrame'>\nRangeIndex: 4622 entries, 0 to 4621\nData columns (total 5 columns):\n #   Column              Non-Null Count  Dtype \n---  ------              --------------  ----- \n 0   order_id            4622 non-null   object\n 1   quantity            4622 non-null   int64 \n 2   item_name           4622 non-null   object\n 3   choice_description  3376 non-null   object\n 4   item_price          4622 non-null   object\ndtypes: int64(1), object(4)\nmemory usage: 180.7+ KB\nNone\n"
     ]
    }
   ],
   "source": [
    "print(chipo.info())"
   ]
  },
  {
   "cell_type": "code",
   "execution_count": 30,
   "metadata": {},
   "outputs": [
    {
     "output_type": "stream",
     "name": "stdout",
     "text": [
      "0     $2.39 \n1     $3.39 \n2     $3.39 \n3     $2.39 \n4    $16.98 \nName: item_price, dtype: object\n"
     ]
    }
   ],
   "source": [
    "print(chipo['item_price'].head())"
   ]
  },
  {
   "cell_type": "code",
   "execution_count": 31,
   "metadata": {},
   "outputs": [],
   "source": [
    "chipo['item_price'] = chipo['item_price'].apply(lambda x: float(x[1:]))"
   ]
  },
  {
   "cell_type": "code",
   "execution_count": 32,
   "metadata": {},
   "outputs": [
    {
     "output_type": "execute_result",
     "data": {
      "text/plain": [
       "          quantity   item_price\n",
       "count  4622.000000  4622.000000\n",
       "mean      1.075725     7.464336\n",
       "std       0.410186     4.245557\n",
       "min       1.000000     1.090000\n",
       "25%       1.000000     3.390000\n",
       "50%       1.000000     8.750000\n",
       "75%       1.000000     9.250000\n",
       "max      15.000000    44.250000"
      ],
      "text/html": "<div>\n<style scoped>\n    .dataframe tbody tr th:only-of-type {\n        vertical-align: middle;\n    }\n\n    .dataframe tbody tr th {\n        vertical-align: top;\n    }\n\n    .dataframe thead th {\n        text-align: right;\n    }\n</style>\n<table border=\"1\" class=\"dataframe\">\n  <thead>\n    <tr style=\"text-align: right;\">\n      <th></th>\n      <th>quantity</th>\n      <th>item_price</th>\n    </tr>\n  </thead>\n  <tbody>\n    <tr>\n      <th>count</th>\n      <td>4622.000000</td>\n      <td>4622.000000</td>\n    </tr>\n    <tr>\n      <th>mean</th>\n      <td>1.075725</td>\n      <td>7.464336</td>\n    </tr>\n    <tr>\n      <th>std</th>\n      <td>0.410186</td>\n      <td>4.245557</td>\n    </tr>\n    <tr>\n      <th>min</th>\n      <td>1.000000</td>\n      <td>1.090000</td>\n    </tr>\n    <tr>\n      <th>25%</th>\n      <td>1.000000</td>\n      <td>3.390000</td>\n    </tr>\n    <tr>\n      <th>50%</th>\n      <td>1.000000</td>\n      <td>8.750000</td>\n    </tr>\n    <tr>\n      <th>75%</th>\n      <td>1.000000</td>\n      <td>9.250000</td>\n    </tr>\n    <tr>\n      <th>max</th>\n      <td>15.000000</td>\n      <td>44.250000</td>\n    </tr>\n  </tbody>\n</table>\n</div>"
     },
     "metadata": {},
     "execution_count": 32
    }
   ],
   "source": [
    "chipo.describe()"
   ]
  },
  {
   "cell_type": "code",
   "execution_count": 33,
   "metadata": {},
   "outputs": [
    {
     "output_type": "execute_result",
     "data": {
      "text/plain": [
       "     order_id  quantity                              item_name  \\\n",
       "0           1         1           Chips and Fresh Tomato Salsa   \n",
       "1           1         1                                   Izze   \n",
       "2           1         1                       Nantucket Nectar   \n",
       "3           1         1  Chips and Tomatillo-Green Chili Salsa   \n",
       "4           2         2                           Chicken Bowl   \n",
       "...       ...       ...                                    ...   \n",
       "4617     1833         1                          Steak Burrito   \n",
       "4618     1833         1                          Steak Burrito   \n",
       "4619     1834         1                     Chicken Salad Bowl   \n",
       "4620     1834         1                     Chicken Salad Bowl   \n",
       "4621     1834         1                     Chicken Salad Bowl   \n",
       "\n",
       "                                     choice_description  item_price  \n",
       "0                                                   NaN        2.39  \n",
       "1                                          [Clementine]        3.39  \n",
       "2                                               [Apple]        3.39  \n",
       "3                                                   NaN        2.39  \n",
       "4     [Tomatillo-Red Chili Salsa (Hot), [Black Beans...       16.98  \n",
       "...                                                 ...         ...  \n",
       "4617  [Fresh Tomato Salsa, [Rice, Black Beans, Sour ...       11.75  \n",
       "4618  [Fresh Tomato Salsa, [Rice, Sour Cream, Cheese...       11.75  \n",
       "4619  [Fresh Tomato Salsa, [Fajita Vegetables, Pinto...       11.25  \n",
       "4620  [Fresh Tomato Salsa, [Fajita Vegetables, Lettu...        8.75  \n",
       "4621  [Fresh Tomato Salsa, [Fajita Vegetables, Pinto...        8.75  \n",
       "\n",
       "[4622 rows x 5 columns]"
      ],
      "text/html": "<div>\n<style scoped>\n    .dataframe tbody tr th:only-of-type {\n        vertical-align: middle;\n    }\n\n    .dataframe tbody tr th {\n        vertical-align: top;\n    }\n\n    .dataframe thead th {\n        text-align: right;\n    }\n</style>\n<table border=\"1\" class=\"dataframe\">\n  <thead>\n    <tr style=\"text-align: right;\">\n      <th></th>\n      <th>order_id</th>\n      <th>quantity</th>\n      <th>item_name</th>\n      <th>choice_description</th>\n      <th>item_price</th>\n    </tr>\n  </thead>\n  <tbody>\n    <tr>\n      <th>0</th>\n      <td>1</td>\n      <td>1</td>\n      <td>Chips and Fresh Tomato Salsa</td>\n      <td>NaN</td>\n      <td>2.39</td>\n    </tr>\n    <tr>\n      <th>1</th>\n      <td>1</td>\n      <td>1</td>\n      <td>Izze</td>\n      <td>[Clementine]</td>\n      <td>3.39</td>\n    </tr>\n    <tr>\n      <th>2</th>\n      <td>1</td>\n      <td>1</td>\n      <td>Nantucket Nectar</td>\n      <td>[Apple]</td>\n      <td>3.39</td>\n    </tr>\n    <tr>\n      <th>3</th>\n      <td>1</td>\n      <td>1</td>\n      <td>Chips and Tomatillo-Green Chili Salsa</td>\n      <td>NaN</td>\n      <td>2.39</td>\n    </tr>\n    <tr>\n      <th>4</th>\n      <td>2</td>\n      <td>2</td>\n      <td>Chicken Bowl</td>\n      <td>[Tomatillo-Red Chili Salsa (Hot), [Black Beans...</td>\n      <td>16.98</td>\n    </tr>\n    <tr>\n      <th>...</th>\n      <td>...</td>\n      <td>...</td>\n      <td>...</td>\n      <td>...</td>\n      <td>...</td>\n    </tr>\n    <tr>\n      <th>4617</th>\n      <td>1833</td>\n      <td>1</td>\n      <td>Steak Burrito</td>\n      <td>[Fresh Tomato Salsa, [Rice, Black Beans, Sour ...</td>\n      <td>11.75</td>\n    </tr>\n    <tr>\n      <th>4618</th>\n      <td>1833</td>\n      <td>1</td>\n      <td>Steak Burrito</td>\n      <td>[Fresh Tomato Salsa, [Rice, Sour Cream, Cheese...</td>\n      <td>11.75</td>\n    </tr>\n    <tr>\n      <th>4619</th>\n      <td>1834</td>\n      <td>1</td>\n      <td>Chicken Salad Bowl</td>\n      <td>[Fresh Tomato Salsa, [Fajita Vegetables, Pinto...</td>\n      <td>11.25</td>\n    </tr>\n    <tr>\n      <th>4620</th>\n      <td>1834</td>\n      <td>1</td>\n      <td>Chicken Salad Bowl</td>\n      <td>[Fresh Tomato Salsa, [Fajita Vegetables, Lettu...</td>\n      <td>8.75</td>\n    </tr>\n    <tr>\n      <th>4621</th>\n      <td>1834</td>\n      <td>1</td>\n      <td>Chicken Salad Bowl</td>\n      <td>[Fresh Tomato Salsa, [Fajita Vegetables, Pinto...</td>\n      <td>8.75</td>\n    </tr>\n  </tbody>\n</table>\n<p>4622 rows × 5 columns</p>\n</div>"
     },
     "metadata": {},
     "execution_count": 33
    }
   ],
   "source": [
    "chipo"
   ]
  },
  {
   "cell_type": "code",
   "execution_count": 34,
   "metadata": {},
   "outputs": [],
   "source": [
    "chipo_orderid_group = chipo.groupby('order_id').sum()"
   ]
  },
  {
   "cell_type": "code",
   "execution_count": 35,
   "metadata": {},
   "outputs": [
    {
     "output_type": "execute_result",
     "data": {
      "text/plain": [
       "          quantity  item_price\n",
       "order_id                      \n",
       "1                4       11.56\n",
       "10               2       13.20\n",
       "100              2       10.08\n",
       "1000             2       20.50\n",
       "1001             2       10.08\n",
       "...            ...         ...\n",
       "995              3       24.95\n",
       "996              4       43.00\n",
       "997              2       22.50\n",
       "998              2       10.88\n",
       "999              5       29.25\n",
       "\n",
       "[1834 rows x 2 columns]"
      ],
      "text/html": "<div>\n<style scoped>\n    .dataframe tbody tr th:only-of-type {\n        vertical-align: middle;\n    }\n\n    .dataframe tbody tr th {\n        vertical-align: top;\n    }\n\n    .dataframe thead th {\n        text-align: right;\n    }\n</style>\n<table border=\"1\" class=\"dataframe\">\n  <thead>\n    <tr style=\"text-align: right;\">\n      <th></th>\n      <th>quantity</th>\n      <th>item_price</th>\n    </tr>\n    <tr>\n      <th>order_id</th>\n      <th></th>\n      <th></th>\n    </tr>\n  </thead>\n  <tbody>\n    <tr>\n      <th>1</th>\n      <td>4</td>\n      <td>11.56</td>\n    </tr>\n    <tr>\n      <th>10</th>\n      <td>2</td>\n      <td>13.20</td>\n    </tr>\n    <tr>\n      <th>100</th>\n      <td>2</td>\n      <td>10.08</td>\n    </tr>\n    <tr>\n      <th>1000</th>\n      <td>2</td>\n      <td>20.50</td>\n    </tr>\n    <tr>\n      <th>1001</th>\n      <td>2</td>\n      <td>10.08</td>\n    </tr>\n    <tr>\n      <th>...</th>\n      <td>...</td>\n      <td>...</td>\n    </tr>\n    <tr>\n      <th>995</th>\n      <td>3</td>\n      <td>24.95</td>\n    </tr>\n    <tr>\n      <th>996</th>\n      <td>4</td>\n      <td>43.00</td>\n    </tr>\n    <tr>\n      <th>997</th>\n      <td>2</td>\n      <td>22.50</td>\n    </tr>\n    <tr>\n      <th>998</th>\n      <td>2</td>\n      <td>10.88</td>\n    </tr>\n    <tr>\n      <th>999</th>\n      <td>5</td>\n      <td>29.25</td>\n    </tr>\n  </tbody>\n</table>\n<p>1834 rows × 2 columns</p>\n</div>"
     },
     "metadata": {},
     "execution_count": 35
    }
   ],
   "source": [
    "chipo_orderid_group"
   ]
  },
  {
   "cell_type": "code",
   "execution_count": 36,
   "metadata": {},
   "outputs": [],
   "source": [
    "results = chipo_orderid_group[chipo_orderid_group.item_price >= 10]"
   ]
  },
  {
   "cell_type": "code",
   "execution_count": 38,
   "metadata": {},
   "outputs": [
    {
     "output_type": "execute_result",
     "data": {
      "text/plain": [
       "          quantity  item_price\n",
       "order_id                      \n",
       "1                4       11.56\n",
       "10               2       13.20\n",
       "100              2       10.08\n",
       "1000             2       20.50\n",
       "1001             2       10.08\n",
       "...            ...         ...\n",
       "995              3       24.95\n",
       "996              4       43.00\n",
       "997              2       22.50\n",
       "998              2       10.88\n",
       "999              5       29.25\n",
       "\n",
       "[1834 rows x 2 columns]"
      ],
      "text/html": "<div>\n<style scoped>\n    .dataframe tbody tr th:only-of-type {\n        vertical-align: middle;\n    }\n\n    .dataframe tbody tr th {\n        vertical-align: top;\n    }\n\n    .dataframe thead th {\n        text-align: right;\n    }\n</style>\n<table border=\"1\" class=\"dataframe\">\n  <thead>\n    <tr style=\"text-align: right;\">\n      <th></th>\n      <th>quantity</th>\n      <th>item_price</th>\n    </tr>\n    <tr>\n      <th>order_id</th>\n      <th></th>\n      <th></th>\n    </tr>\n  </thead>\n  <tbody>\n    <tr>\n      <th>1</th>\n      <td>4</td>\n      <td>11.56</td>\n    </tr>\n    <tr>\n      <th>10</th>\n      <td>2</td>\n      <td>13.20</td>\n    </tr>\n    <tr>\n      <th>100</th>\n      <td>2</td>\n      <td>10.08</td>\n    </tr>\n    <tr>\n      <th>1000</th>\n      <td>2</td>\n      <td>20.50</td>\n    </tr>\n    <tr>\n      <th>1001</th>\n      <td>2</td>\n      <td>10.08</td>\n    </tr>\n    <tr>\n      <th>...</th>\n      <td>...</td>\n      <td>...</td>\n    </tr>\n    <tr>\n      <th>995</th>\n      <td>3</td>\n      <td>24.95</td>\n    </tr>\n    <tr>\n      <th>996</th>\n      <td>4</td>\n      <td>43.00</td>\n    </tr>\n    <tr>\n      <th>997</th>\n      <td>2</td>\n      <td>22.50</td>\n    </tr>\n    <tr>\n      <th>998</th>\n      <td>2</td>\n      <td>10.88</td>\n    </tr>\n    <tr>\n      <th>999</th>\n      <td>5</td>\n      <td>29.25</td>\n    </tr>\n  </tbody>\n</table>\n<p>1834 rows × 2 columns</p>\n</div>"
     },
     "metadata": {},
     "execution_count": 38
    }
   ],
   "source": [
    "results"
   ]
  },
  {
   "cell_type": "code",
   "execution_count": 39,
   "metadata": {},
   "outputs": [],
   "source": [
    "chipo_one_item = chipo[chipo.quantity == 1]"
   ]
  },
  {
   "cell_type": "code",
   "execution_count": 40,
   "metadata": {},
   "outputs": [
    {
     "output_type": "execute_result",
     "data": {
      "text/plain": [
       "     order_id  quantity                              item_name  \\\n",
       "0           1         1           Chips and Fresh Tomato Salsa   \n",
       "1           1         1                                   Izze   \n",
       "2           1         1                       Nantucket Nectar   \n",
       "3           1         1  Chips and Tomatillo-Green Chili Salsa   \n",
       "5           3         1                           Chicken Bowl   \n",
       "...       ...       ...                                    ...   \n",
       "4617     1833         1                          Steak Burrito   \n",
       "4618     1833         1                          Steak Burrito   \n",
       "4619     1834         1                     Chicken Salad Bowl   \n",
       "4620     1834         1                     Chicken Salad Bowl   \n",
       "4621     1834         1                     Chicken Salad Bowl   \n",
       "\n",
       "                                     choice_description  item_price  \n",
       "0                                                   NaN        2.39  \n",
       "1                                          [Clementine]        3.39  \n",
       "2                                               [Apple]        3.39  \n",
       "3                                                   NaN        2.39  \n",
       "5     [Fresh Tomato Salsa (Mild), [Rice, Cheese, Sou...       10.98  \n",
       "...                                                 ...         ...  \n",
       "4617  [Fresh Tomato Salsa, [Rice, Black Beans, Sour ...       11.75  \n",
       "4618  [Fresh Tomato Salsa, [Rice, Sour Cream, Cheese...       11.75  \n",
       "4619  [Fresh Tomato Salsa, [Fajita Vegetables, Pinto...       11.25  \n",
       "4620  [Fresh Tomato Salsa, [Fajita Vegetables, Lettu...        8.75  \n",
       "4621  [Fresh Tomato Salsa, [Fajita Vegetables, Pinto...        8.75  \n",
       "\n",
       "[4355 rows x 5 columns]"
      ],
      "text/html": "<div>\n<style scoped>\n    .dataframe tbody tr th:only-of-type {\n        vertical-align: middle;\n    }\n\n    .dataframe tbody tr th {\n        vertical-align: top;\n    }\n\n    .dataframe thead th {\n        text-align: right;\n    }\n</style>\n<table border=\"1\" class=\"dataframe\">\n  <thead>\n    <tr style=\"text-align: right;\">\n      <th></th>\n      <th>order_id</th>\n      <th>quantity</th>\n      <th>item_name</th>\n      <th>choice_description</th>\n      <th>item_price</th>\n    </tr>\n  </thead>\n  <tbody>\n    <tr>\n      <th>0</th>\n      <td>1</td>\n      <td>1</td>\n      <td>Chips and Fresh Tomato Salsa</td>\n      <td>NaN</td>\n      <td>2.39</td>\n    </tr>\n    <tr>\n      <th>1</th>\n      <td>1</td>\n      <td>1</td>\n      <td>Izze</td>\n      <td>[Clementine]</td>\n      <td>3.39</td>\n    </tr>\n    <tr>\n      <th>2</th>\n      <td>1</td>\n      <td>1</td>\n      <td>Nantucket Nectar</td>\n      <td>[Apple]</td>\n      <td>3.39</td>\n    </tr>\n    <tr>\n      <th>3</th>\n      <td>1</td>\n      <td>1</td>\n      <td>Chips and Tomatillo-Green Chili Salsa</td>\n      <td>NaN</td>\n      <td>2.39</td>\n    </tr>\n    <tr>\n      <th>5</th>\n      <td>3</td>\n      <td>1</td>\n      <td>Chicken Bowl</td>\n      <td>[Fresh Tomato Salsa (Mild), [Rice, Cheese, Sou...</td>\n      <td>10.98</td>\n    </tr>\n    <tr>\n      <th>...</th>\n      <td>...</td>\n      <td>...</td>\n      <td>...</td>\n      <td>...</td>\n      <td>...</td>\n    </tr>\n    <tr>\n      <th>4617</th>\n      <td>1833</td>\n      <td>1</td>\n      <td>Steak Burrito</td>\n      <td>[Fresh Tomato Salsa, [Rice, Black Beans, Sour ...</td>\n      <td>11.75</td>\n    </tr>\n    <tr>\n      <th>4618</th>\n      <td>1833</td>\n      <td>1</td>\n      <td>Steak Burrito</td>\n      <td>[Fresh Tomato Salsa, [Rice, Sour Cream, Cheese...</td>\n      <td>11.75</td>\n    </tr>\n    <tr>\n      <th>4619</th>\n      <td>1834</td>\n      <td>1</td>\n      <td>Chicken Salad Bowl</td>\n      <td>[Fresh Tomato Salsa, [Fajita Vegetables, Pinto...</td>\n      <td>11.25</td>\n    </tr>\n    <tr>\n      <th>4620</th>\n      <td>1834</td>\n      <td>1</td>\n      <td>Chicken Salad Bowl</td>\n      <td>[Fresh Tomato Salsa, [Fajita Vegetables, Lettu...</td>\n      <td>8.75</td>\n    </tr>\n    <tr>\n      <th>4621</th>\n      <td>1834</td>\n      <td>1</td>\n      <td>Chicken Salad Bowl</td>\n      <td>[Fresh Tomato Salsa, [Fajita Vegetables, Pinto...</td>\n      <td>8.75</td>\n    </tr>\n  </tbody>\n</table>\n<p>4355 rows × 5 columns</p>\n</div>"
     },
     "metadata": {},
     "execution_count": 40
    }
   ],
   "source": [
    "chipo_one_item"
   ]
  },
  {
   "cell_type": "code",
   "execution_count": 41,
   "metadata": {},
   "outputs": [],
   "source": [
    "price_per_item = chipo_one_item.groupby('item_name')"
   ]
  },
  {
   "cell_type": "code",
   "execution_count": 43,
   "metadata": {},
   "outputs": [
    {
     "output_type": "execute_result",
     "data": {
      "text/plain": [
       "                                      order_id  quantity  \\\n",
       "item_name                                                  \n",
       "6 Pack Soft Drink                         1076         1   \n",
       "Barbacoa Bowl                             1000         1   \n",
       "Barbacoa Burrito                          1002         1   \n",
       "Barbacoa Crispy Tacos                      110         1   \n",
       "Barbacoa Salad Bowl                       1283         1   \n",
       "Barbacoa Soft Tacos                       1103         1   \n",
       "Bottled Water                             1009         1   \n",
       "Bowl                                       279         1   \n",
       "Burrito                                    214         1   \n",
       "Canned Soda                                100         1   \n",
       "Canned Soft Drink                         1003         1   \n",
       "Carnitas Bowl                             1007         1   \n",
       "Carnitas Burrito                          1003         1   \n",
       "Carnitas Crispy Tacos                     1774         1   \n",
       "Carnitas Salad                            1500         1   \n",
       "Carnitas Salad Bowl                       1035         1   \n",
       "Carnitas Soft Tacos                       1011         1   \n",
       "Chicken Bowl                                10         1   \n",
       "Chicken Burrito                           1005         1   \n",
       "Chicken Crispy Tacos                      1010         1   \n",
       "Chicken Salad                              109         1   \n",
       "Chicken Salad Bowl                        1015         1   \n",
       "Chicken Soft Tacos                        1006         1   \n",
       "Chips                                     1005         1   \n",
       "Chips and Fresh Tomato Salsa                 1         1   \n",
       "Chips and Guacamole                         10         1   \n",
       "Chips and Mild Fresh Tomato Salsa          279         1   \n",
       "Chips and Roasted Chili Corn Salsa         102         1   \n",
       "Chips and Roasted Chili-Corn Salsa        1156         1   \n",
       "Chips and Tomatillo Green Chili Salsa      102         1   \n",
       "Chips and Tomatillo Red Chili Salsa       1020         1   \n",
       "Chips and Tomatillo-Green Chili Salsa        1         1   \n",
       "Chips and Tomatillo-Red Chili Salsa       1215         1   \n",
       "Crispy Tacos                               217         1   \n",
       "Izze                                         1         1   \n",
       "Nantucket Nectar                             1         1   \n",
       "Salad                                      575         1   \n",
       "Side of Chips                             1002         1   \n",
       "Steak Bowl                                1006         1   \n",
       "Steak Burrito                              100         1   \n",
       "Steak Crispy Tacos                        1044         1   \n",
       "Steak Salad                               1406         1   \n",
       "Steak Salad Bowl                          1032         1   \n",
       "Steak Soft Tacos                          1054         1   \n",
       "Veggie Bowl                               1006         1   \n",
       "Veggie Burrito                            1033         1   \n",
       "Veggie Crispy Tacos                        668         1   \n",
       "Veggie Salad                              1094         1   \n",
       "Veggie Salad Bowl                         1066         1   \n",
       "Veggie Soft Tacos                         1132         1   \n",
       "\n",
       "                                                                      choice_description  \\\n",
       "item_name                                                                                  \n",
       "6 Pack Soft Drink                                                                 [Coke]   \n",
       "Barbacoa Bowl                          [Fresh Tomato (Mild), [Lettuce, Black Beans, R...   \n",
       "Barbacoa Burrito                       [Fresh Tomato (Mild), [Black Beans, Rice, Sour...   \n",
       "Barbacoa Crispy Tacos                                    [Fresh Tomato Salsa, Guacamole]   \n",
       "Barbacoa Salad Bowl                                      [Fresh Tomato Salsa, Guacamole]   \n",
       "Barbacoa Soft Tacos                    [Fresh Tomato Salsa, [Black Beans, Cheese, Let...   \n",
       "Bottled Water                                                                        NaN   \n",
       "Bowl                                   [Adobo-Marinated and Grilled Steak, [Sour Crea...   \n",
       "Burrito                                [Adobo-Marinated and Grilled Chicken, Pinto Be...   \n",
       "Canned Soda                                                                  [Coca Cola]   \n",
       "Canned Soft Drink                                                                 [Coke]   \n",
       "Carnitas Bowl                          [Fresh Tomato (Mild), [Guacamole, Lettuce, Ric...   \n",
       "Carnitas Burrito                       [Fresh Tomato (Mild), [Lettuce, Black Beans, G...   \n",
       "Carnitas Crispy Tacos                  [Fresh Tomato Salsa, [Fajita Vegetables, Rice,...   \n",
       "Carnitas Salad                         [[Fresh Tomato Salsa (Mild), Roasted Chili Cor...   \n",
       "Carnitas Salad Bowl                    [Fresh Tomato Salsa, [Rice, Black Beans, Chees...   \n",
       "Carnitas Soft Tacos                    [Fresh Tomato Salsa (Mild), [Black Beans, Rice...   \n",
       "Chicken Bowl                                    [Fresh Tomato (Mild), [Guacamole, Rice]]   \n",
       "Chicken Burrito                        [Fresh Tomato (Mild), [Black Beans, Rice, Sour...   \n",
       "Chicken Crispy Tacos                         [Fresh Tomato Salsa (Mild), Fajita Veggies]   \n",
       "Chicken Salad                                   [Fresh Tomato Salsa (Mild), Black Beans]   \n",
       "Chicken Salad Bowl                               [Fresh Tomato Salsa, Fajita Vegetables]   \n",
       "Chicken Soft Tacos                     [Fresh Tomato Salsa (Mild), [Black Beans, Rice...   \n",
       "Chips                                                                                NaN   \n",
       "Chips and Fresh Tomato Salsa                                                         NaN   \n",
       "Chips and Guacamole                                                                  NaN   \n",
       "Chips and Mild Fresh Tomato Salsa                                                    NaN   \n",
       "Chips and Roasted Chili Corn Salsa                                                   NaN   \n",
       "Chips and Roasted Chili-Corn Salsa                                                   NaN   \n",
       "Chips and Tomatillo Green Chili Salsa                                                NaN   \n",
       "Chips and Tomatillo Red Chili Salsa                                                  NaN   \n",
       "Chips and Tomatillo-Green Chili Salsa                                                NaN   \n",
       "Chips and Tomatillo-Red Chili Salsa                                                  NaN   \n",
       "Crispy Tacos                                       [Adobo-Marinated and Grilled Chicken]   \n",
       "Izze                                                                        [Blackberry]   \n",
       "Nantucket Nectar                                                                 [Apple]   \n",
       "Salad                                  [Brown Rice, Adobo-Marinated and Grilled Chick...   \n",
       "Side of Chips                                                                        NaN   \n",
       "Steak Bowl                             [Fresh Tomato (Mild), [Guacamole, Lettuce, Pin...   \n",
       "Steak Burrito                                                               [Brown Rice]   \n",
       "Steak Crispy Tacos                              [Fresh Tomato (Mild), [Lettuce, Cheese]]   \n",
       "Steak Salad                            [Fresh Tomato Salsa (Mild), [Rice, Cheese, Sou...   \n",
       "Steak Salad Bowl                                           [Fresh Tomato Salsa, Lettuce]   \n",
       "Steak Soft Tacos                       [Fresh Tomato Salsa (Mild), [Cheese, Sour Cream]]   \n",
       "Veggie Bowl                            [Fresh Tomato Salsa (Mild), [Pinto Beans, Blac...   \n",
       "Veggie Burrito                         [Fresh Tomato Salsa (Mild), [Black Beans, Faji...   \n",
       "Veggie Crispy Tacos                    [Fresh Tomato Salsa (Mild), [Pinto Beans, Rice...   \n",
       "Veggie Salad                           [Roasted Chili Corn Salsa (Medium), [Black Bea...   \n",
       "Veggie Salad Bowl                      [Fresh Tomato Salsa, [Fajita Vegetables, Black...   \n",
       "Veggie Soft Tacos                      [Fresh Tomato Salsa (Mild), [Pinto Beans, Rice...   \n",
       "\n",
       "                                       item_price  \n",
       "item_name                                          \n",
       "6 Pack Soft Drink                            6.49  \n",
       "Barbacoa Bowl                                8.69  \n",
       "Barbacoa Burrito                             8.69  \n",
       "Barbacoa Crispy Tacos                        8.99  \n",
       "Barbacoa Salad Bowl                          9.39  \n",
       "Barbacoa Soft Tacos                          8.99  \n",
       "Bottled Water                                1.09  \n",
       "Bowl                                         7.40  \n",
       "Burrito                                      7.40  \n",
       "Canned Soda                                  1.09  \n",
       "Canned Soft Drink                            1.25  \n",
       "Carnitas Bowl                                8.99  \n",
       "Carnitas Burrito                             8.69  \n",
       "Carnitas Crispy Tacos                        8.99  \n",
       "Carnitas Salad                               8.99  \n",
       "Carnitas Salad Bowl                          9.39  \n",
       "Carnitas Soft Tacos                          8.99  \n",
       "Chicken Bowl                                 8.19  \n",
       "Chicken Burrito                              8.19  \n",
       "Chicken Crispy Tacos                         8.49  \n",
       "Chicken Salad                                8.19  \n",
       "Chicken Salad Bowl                           8.75  \n",
       "Chicken Soft Tacos                           8.49  \n",
       "Chips                                        1.99  \n",
       "Chips and Fresh Tomato Salsa                 2.29  \n",
       "Chips and Guacamole                          3.89  \n",
       "Chips and Mild Fresh Tomato Salsa            3.00  \n",
       "Chips and Roasted Chili Corn Salsa           2.95  \n",
       "Chips and Roasted Chili-Corn Salsa           2.39  \n",
       "Chips and Tomatillo Green Chili Salsa        2.95  \n",
       "Chips and Tomatillo Red Chili Salsa          2.95  \n",
       "Chips and Tomatillo-Green Chili Salsa        2.39  \n",
       "Chips and Tomatillo-Red Chili Salsa          2.39  \n",
       "Crispy Tacos                                 7.40  \n",
       "Izze                                         3.39  \n",
       "Nantucket Nectar                             3.39  \n",
       "Salad                                        7.40  \n",
       "Side of Chips                                1.69  \n",
       "Steak Bowl                                   8.69  \n",
       "Steak Burrito                                8.69  \n",
       "Steak Crispy Tacos                           8.69  \n",
       "Steak Salad                                  8.69  \n",
       "Steak Salad Bowl                             9.39  \n",
       "Steak Soft Tacos                             8.99  \n",
       "Veggie Bowl                                  8.49  \n",
       "Veggie Burrito                               8.49  \n",
       "Veggie Crispy Tacos                          8.49  \n",
       "Veggie Salad                                 8.49  \n",
       "Veggie Salad Bowl                            8.75  \n",
       "Veggie Soft Tacos                            8.49  "
      ],
      "text/html": "<div>\n<style scoped>\n    .dataframe tbody tr th:only-of-type {\n        vertical-align: middle;\n    }\n\n    .dataframe tbody tr th {\n        vertical-align: top;\n    }\n\n    .dataframe thead th {\n        text-align: right;\n    }\n</style>\n<table border=\"1\" class=\"dataframe\">\n  <thead>\n    <tr style=\"text-align: right;\">\n      <th></th>\n      <th>order_id</th>\n      <th>quantity</th>\n      <th>choice_description</th>\n      <th>item_price</th>\n    </tr>\n    <tr>\n      <th>item_name</th>\n      <th></th>\n      <th></th>\n      <th></th>\n      <th></th>\n    </tr>\n  </thead>\n  <tbody>\n    <tr>\n      <th>6 Pack Soft Drink</th>\n      <td>1076</td>\n      <td>1</td>\n      <td>[Coke]</td>\n      <td>6.49</td>\n    </tr>\n    <tr>\n      <th>Barbacoa Bowl</th>\n      <td>1000</td>\n      <td>1</td>\n      <td>[Fresh Tomato (Mild), [Lettuce, Black Beans, R...</td>\n      <td>8.69</td>\n    </tr>\n    <tr>\n      <th>Barbacoa Burrito</th>\n      <td>1002</td>\n      <td>1</td>\n      <td>[Fresh Tomato (Mild), [Black Beans, Rice, Sour...</td>\n      <td>8.69</td>\n    </tr>\n    <tr>\n      <th>Barbacoa Crispy Tacos</th>\n      <td>110</td>\n      <td>1</td>\n      <td>[Fresh Tomato Salsa, Guacamole]</td>\n      <td>8.99</td>\n    </tr>\n    <tr>\n      <th>Barbacoa Salad Bowl</th>\n      <td>1283</td>\n      <td>1</td>\n      <td>[Fresh Tomato Salsa, Guacamole]</td>\n      <td>9.39</td>\n    </tr>\n    <tr>\n      <th>Barbacoa Soft Tacos</th>\n      <td>1103</td>\n      <td>1</td>\n      <td>[Fresh Tomato Salsa, [Black Beans, Cheese, Let...</td>\n      <td>8.99</td>\n    </tr>\n    <tr>\n      <th>Bottled Water</th>\n      <td>1009</td>\n      <td>1</td>\n      <td>NaN</td>\n      <td>1.09</td>\n    </tr>\n    <tr>\n      <th>Bowl</th>\n      <td>279</td>\n      <td>1</td>\n      <td>[Adobo-Marinated and Grilled Steak, [Sour Crea...</td>\n      <td>7.40</td>\n    </tr>\n    <tr>\n      <th>Burrito</th>\n      <td>214</td>\n      <td>1</td>\n      <td>[Adobo-Marinated and Grilled Chicken, Pinto Be...</td>\n      <td>7.40</td>\n    </tr>\n    <tr>\n      <th>Canned Soda</th>\n      <td>100</td>\n      <td>1</td>\n      <td>[Coca Cola]</td>\n      <td>1.09</td>\n    </tr>\n    <tr>\n      <th>Canned Soft Drink</th>\n      <td>1003</td>\n      <td>1</td>\n      <td>[Coke]</td>\n      <td>1.25</td>\n    </tr>\n    <tr>\n      <th>Carnitas Bowl</th>\n      <td>1007</td>\n      <td>1</td>\n      <td>[Fresh Tomato (Mild), [Guacamole, Lettuce, Ric...</td>\n      <td>8.99</td>\n    </tr>\n    <tr>\n      <th>Carnitas Burrito</th>\n      <td>1003</td>\n      <td>1</td>\n      <td>[Fresh Tomato (Mild), [Lettuce, Black Beans, G...</td>\n      <td>8.69</td>\n    </tr>\n    <tr>\n      <th>Carnitas Crispy Tacos</th>\n      <td>1774</td>\n      <td>1</td>\n      <td>[Fresh Tomato Salsa, [Fajita Vegetables, Rice,...</td>\n      <td>8.99</td>\n    </tr>\n    <tr>\n      <th>Carnitas Salad</th>\n      <td>1500</td>\n      <td>1</td>\n      <td>[[Fresh Tomato Salsa (Mild), Roasted Chili Cor...</td>\n      <td>8.99</td>\n    </tr>\n    <tr>\n      <th>Carnitas Salad Bowl</th>\n      <td>1035</td>\n      <td>1</td>\n      <td>[Fresh Tomato Salsa, [Rice, Black Beans, Chees...</td>\n      <td>9.39</td>\n    </tr>\n    <tr>\n      <th>Carnitas Soft Tacos</th>\n      <td>1011</td>\n      <td>1</td>\n      <td>[Fresh Tomato Salsa (Mild), [Black Beans, Rice...</td>\n      <td>8.99</td>\n    </tr>\n    <tr>\n      <th>Chicken Bowl</th>\n      <td>10</td>\n      <td>1</td>\n      <td>[Fresh Tomato (Mild), [Guacamole, Rice]]</td>\n      <td>8.19</td>\n    </tr>\n    <tr>\n      <th>Chicken Burrito</th>\n      <td>1005</td>\n      <td>1</td>\n      <td>[Fresh Tomato (Mild), [Black Beans, Rice, Sour...</td>\n      <td>8.19</td>\n    </tr>\n    <tr>\n      <th>Chicken Crispy Tacos</th>\n      <td>1010</td>\n      <td>1</td>\n      <td>[Fresh Tomato Salsa (Mild), Fajita Veggies]</td>\n      <td>8.49</td>\n    </tr>\n    <tr>\n      <th>Chicken Salad</th>\n      <td>109</td>\n      <td>1</td>\n      <td>[Fresh Tomato Salsa (Mild), Black Beans]</td>\n      <td>8.19</td>\n    </tr>\n    <tr>\n      <th>Chicken Salad Bowl</th>\n      <td>1015</td>\n      <td>1</td>\n      <td>[Fresh Tomato Salsa, Fajita Vegetables]</td>\n      <td>8.75</td>\n    </tr>\n    <tr>\n      <th>Chicken Soft Tacos</th>\n      <td>1006</td>\n      <td>1</td>\n      <td>[Fresh Tomato Salsa (Mild), [Black Beans, Rice...</td>\n      <td>8.49</td>\n    </tr>\n    <tr>\n      <th>Chips</th>\n      <td>1005</td>\n      <td>1</td>\n      <td>NaN</td>\n      <td>1.99</td>\n    </tr>\n    <tr>\n      <th>Chips and Fresh Tomato Salsa</th>\n      <td>1</td>\n      <td>1</td>\n      <td>NaN</td>\n      <td>2.29</td>\n    </tr>\n    <tr>\n      <th>Chips and Guacamole</th>\n      <td>10</td>\n      <td>1</td>\n      <td>NaN</td>\n      <td>3.89</td>\n    </tr>\n    <tr>\n      <th>Chips and Mild Fresh Tomato Salsa</th>\n      <td>279</td>\n      <td>1</td>\n      <td>NaN</td>\n      <td>3.00</td>\n    </tr>\n    <tr>\n      <th>Chips and Roasted Chili Corn Salsa</th>\n      <td>102</td>\n      <td>1</td>\n      <td>NaN</td>\n      <td>2.95</td>\n    </tr>\n    <tr>\n      <th>Chips and Roasted Chili-Corn Salsa</th>\n      <td>1156</td>\n      <td>1</td>\n      <td>NaN</td>\n      <td>2.39</td>\n    </tr>\n    <tr>\n      <th>Chips and Tomatillo Green Chili Salsa</th>\n      <td>102</td>\n      <td>1</td>\n      <td>NaN</td>\n      <td>2.95</td>\n    </tr>\n    <tr>\n      <th>Chips and Tomatillo Red Chili Salsa</th>\n      <td>1020</td>\n      <td>1</td>\n      <td>NaN</td>\n      <td>2.95</td>\n    </tr>\n    <tr>\n      <th>Chips and Tomatillo-Green Chili Salsa</th>\n      <td>1</td>\n      <td>1</td>\n      <td>NaN</td>\n      <td>2.39</td>\n    </tr>\n    <tr>\n      <th>Chips and Tomatillo-Red Chili Salsa</th>\n      <td>1215</td>\n      <td>1</td>\n      <td>NaN</td>\n      <td>2.39</td>\n    </tr>\n    <tr>\n      <th>Crispy Tacos</th>\n      <td>217</td>\n      <td>1</td>\n      <td>[Adobo-Marinated and Grilled Chicken]</td>\n      <td>7.40</td>\n    </tr>\n    <tr>\n      <th>Izze</th>\n      <td>1</td>\n      <td>1</td>\n      <td>[Blackberry]</td>\n      <td>3.39</td>\n    </tr>\n    <tr>\n      <th>Nantucket Nectar</th>\n      <td>1</td>\n      <td>1</td>\n      <td>[Apple]</td>\n      <td>3.39</td>\n    </tr>\n    <tr>\n      <th>Salad</th>\n      <td>575</td>\n      <td>1</td>\n      <td>[Brown Rice, Adobo-Marinated and Grilled Chick...</td>\n      <td>7.40</td>\n    </tr>\n    <tr>\n      <th>Side of Chips</th>\n      <td>1002</td>\n      <td>1</td>\n      <td>NaN</td>\n      <td>1.69</td>\n    </tr>\n    <tr>\n      <th>Steak Bowl</th>\n      <td>1006</td>\n      <td>1</td>\n      <td>[Fresh Tomato (Mild), [Guacamole, Lettuce, Pin...</td>\n      <td>8.69</td>\n    </tr>\n    <tr>\n      <th>Steak Burrito</th>\n      <td>100</td>\n      <td>1</td>\n      <td>[Brown Rice]</td>\n      <td>8.69</td>\n    </tr>\n    <tr>\n      <th>Steak Crispy Tacos</th>\n      <td>1044</td>\n      <td>1</td>\n      <td>[Fresh Tomato (Mild), [Lettuce, Cheese]]</td>\n      <td>8.69</td>\n    </tr>\n    <tr>\n      <th>Steak Salad</th>\n      <td>1406</td>\n      <td>1</td>\n      <td>[Fresh Tomato Salsa (Mild), [Rice, Cheese, Sou...</td>\n      <td>8.69</td>\n    </tr>\n    <tr>\n      <th>Steak Salad Bowl</th>\n      <td>1032</td>\n      <td>1</td>\n      <td>[Fresh Tomato Salsa, Lettuce]</td>\n      <td>9.39</td>\n    </tr>\n    <tr>\n      <th>Steak Soft Tacos</th>\n      <td>1054</td>\n      <td>1</td>\n      <td>[Fresh Tomato Salsa (Mild), [Cheese, Sour Cream]]</td>\n      <td>8.99</td>\n    </tr>\n    <tr>\n      <th>Veggie Bowl</th>\n      <td>1006</td>\n      <td>1</td>\n      <td>[Fresh Tomato Salsa (Mild), [Pinto Beans, Blac...</td>\n      <td>8.49</td>\n    </tr>\n    <tr>\n      <th>Veggie Burrito</th>\n      <td>1033</td>\n      <td>1</td>\n      <td>[Fresh Tomato Salsa (Mild), [Black Beans, Faji...</td>\n      <td>8.49</td>\n    </tr>\n    <tr>\n      <th>Veggie Crispy Tacos</th>\n      <td>668</td>\n      <td>1</td>\n      <td>[Fresh Tomato Salsa (Mild), [Pinto Beans, Rice...</td>\n      <td>8.49</td>\n    </tr>\n    <tr>\n      <th>Veggie Salad</th>\n      <td>1094</td>\n      <td>1</td>\n      <td>[Roasted Chili Corn Salsa (Medium), [Black Bea...</td>\n      <td>8.49</td>\n    </tr>\n    <tr>\n      <th>Veggie Salad Bowl</th>\n      <td>1066</td>\n      <td>1</td>\n      <td>[Fresh Tomato Salsa, [Fajita Vegetables, Black...</td>\n      <td>8.75</td>\n    </tr>\n    <tr>\n      <th>Veggie Soft Tacos</th>\n      <td>1132</td>\n      <td>1</td>\n      <td>[Fresh Tomato Salsa (Mild), [Pinto Beans, Rice...</td>\n      <td>8.49</td>\n    </tr>\n  </tbody>\n</table>\n</div>"
     },
     "metadata": {},
     "execution_count": 43
    }
   ],
   "source": [
    "price_per_item.min()"
   ]
  },
  {
   "cell_type": "code",
   "execution_count": null,
   "metadata": {},
   "outputs": [],
   "source": []
  }
 ]
}