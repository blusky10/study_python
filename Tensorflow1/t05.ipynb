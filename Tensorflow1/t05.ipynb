{
 "metadata": {
  "language_info": {
   "codemirror_mode": {
    "name": "ipython",
    "version": 3
   },
   "file_extension": ".py",
   "mimetype": "text/x-python",
   "name": "python",
   "nbconvert_exporter": "python",
   "pygments_lexer": "ipython3",
   "version": "3.8.5-final"
  },
  "orig_nbformat": 2,
  "kernelspec": {
   "name": "python_defaultSpec_1598571943475",
   "display_name": "Python 3.8.5 64-bit"
  }
 },
 "nbformat": 4,
 "nbformat_minor": 2,
 "cells": [
  {
   "cell_type": "code",
   "execution_count": 1,
   "metadata": {},
   "outputs": [],
   "source": [
    "import tensorflow as tf\n",
    "import pandas as pd"
   ]
  },
  {
   "cell_type": "code",
   "execution_count": 2,
   "metadata": {},
   "outputs": [
    {
     "output_type": "execute_result",
     "data": {
      "text/plain": "      crim    zn  indus  chas    nox     rm   age     dis  rad  tax  ptratio  \\\n0  0.00632  18.0   2.31     0  0.538  6.575  65.2  4.0900    1  296     15.3   \n1  0.02731   0.0   7.07     0  0.469  6.421  78.9  4.9671    2  242     17.8   \n2  0.02729   0.0   7.07     0  0.469  7.185  61.1  4.9671    2  242     17.8   \n3  0.03237   0.0   2.18     0  0.458  6.998  45.8  6.0622    3  222     18.7   \n4  0.06905   0.0   2.18     0  0.458  7.147  54.2  6.0622    3  222     18.7   \n\n        b  lstat  medv  \n0  396.90   4.98  24.0  \n1  396.90   9.14  21.6  \n2  392.83   4.03  34.7  \n3  394.63   2.94  33.4  \n4  396.90   5.33  36.2  ",
      "text/html": "<div>\n<style scoped>\n    .dataframe tbody tr th:only-of-type {\n        vertical-align: middle;\n    }\n\n    .dataframe tbody tr th {\n        vertical-align: top;\n    }\n\n    .dataframe thead th {\n        text-align: right;\n    }\n</style>\n<table border=\"1\" class=\"dataframe\">\n  <thead>\n    <tr style=\"text-align: right;\">\n      <th></th>\n      <th>crim</th>\n      <th>zn</th>\n      <th>indus</th>\n      <th>chas</th>\n      <th>nox</th>\n      <th>rm</th>\n      <th>age</th>\n      <th>dis</th>\n      <th>rad</th>\n      <th>tax</th>\n      <th>ptratio</th>\n      <th>b</th>\n      <th>lstat</th>\n      <th>medv</th>\n    </tr>\n  </thead>\n  <tbody>\n    <tr>\n      <th>0</th>\n      <td>0.00632</td>\n      <td>18.0</td>\n      <td>2.31</td>\n      <td>0</td>\n      <td>0.538</td>\n      <td>6.575</td>\n      <td>65.2</td>\n      <td>4.0900</td>\n      <td>1</td>\n      <td>296</td>\n      <td>15.3</td>\n      <td>396.90</td>\n      <td>4.98</td>\n      <td>24.0</td>\n    </tr>\n    <tr>\n      <th>1</th>\n      <td>0.02731</td>\n      <td>0.0</td>\n      <td>7.07</td>\n      <td>0</td>\n      <td>0.469</td>\n      <td>6.421</td>\n      <td>78.9</td>\n      <td>4.9671</td>\n      <td>2</td>\n      <td>242</td>\n      <td>17.8</td>\n      <td>396.90</td>\n      <td>9.14</td>\n      <td>21.6</td>\n    </tr>\n    <tr>\n      <th>2</th>\n      <td>0.02729</td>\n      <td>0.0</td>\n      <td>7.07</td>\n      <td>0</td>\n      <td>0.469</td>\n      <td>7.185</td>\n      <td>61.1</td>\n      <td>4.9671</td>\n      <td>2</td>\n      <td>242</td>\n      <td>17.8</td>\n      <td>392.83</td>\n      <td>4.03</td>\n      <td>34.7</td>\n    </tr>\n    <tr>\n      <th>3</th>\n      <td>0.03237</td>\n      <td>0.0</td>\n      <td>2.18</td>\n      <td>0</td>\n      <td>0.458</td>\n      <td>6.998</td>\n      <td>45.8</td>\n      <td>6.0622</td>\n      <td>3</td>\n      <td>222</td>\n      <td>18.7</td>\n      <td>394.63</td>\n      <td>2.94</td>\n      <td>33.4</td>\n    </tr>\n    <tr>\n      <th>4</th>\n      <td>0.06905</td>\n      <td>0.0</td>\n      <td>2.18</td>\n      <td>0</td>\n      <td>0.458</td>\n      <td>7.147</td>\n      <td>54.2</td>\n      <td>6.0622</td>\n      <td>3</td>\n      <td>222</td>\n      <td>18.7</td>\n      <td>396.90</td>\n      <td>5.33</td>\n      <td>36.2</td>\n    </tr>\n  </tbody>\n</table>\n</div>"
     },
     "metadata": {},
     "execution_count": 2
    }
   ],
   "source": [
    "파일경로= './boston.csv'\n",
    "데이터= pd.read_csv(파일경로)\n",
    "데이터.head()"
   ]
  },
  {
   "cell_type": "code",
   "execution_count": 3,
   "metadata": {},
   "outputs": [
    {
     "output_type": "execute_result",
     "data": {
      "text/plain": "(506, 14)"
     },
     "metadata": {},
     "execution_count": 3
    }
   ],
   "source": [
    "데이터.shape"
   ]
  },
  {
   "cell_type": "code",
   "execution_count": 4,
   "metadata": {
    "tags": []
   },
   "outputs": [
    {
     "output_type": "stream",
     "name": "stdout",
     "text": "(506, 13) (506, 1)\n"
    }
   ],
   "source": [
    "독립=데이터[['crim', 'zn', 'indus', 'chas', 'nox', 'rm', 'age', 'dis', 'rad', 'tax','ptratio', 'b', 'lstat']]\n",
    "종속=데이터[['medv']]\n",
    "print(독립.shape, 종속.shape)"
   ]
  },
  {
   "cell_type": "code",
   "execution_count": 6,
   "metadata": {},
   "outputs": [],
   "source": [
    "X = tf.keras.layers.Input(shape=[13])\n",
    "H = tf.keras.layers.Dense(10, activation='swish')(X)\n",
    "Y = tf.keras.layers.Dense(1)(H)\n",
    "model = tf.keras.models.Model(X, Y)\n",
    "model.compile(loss='mse')"
   ]
  },
  {
   "cell_type": "code",
   "execution_count": 8,
   "metadata": {
    "tags": []
   },
   "outputs": [
    {
     "output_type": "execute_result",
     "data": {
      "text/plain": "<tensorflow.python.keras.callbacks.History at 0x1e33d7fc8b0>"
     },
     "metadata": {},
     "execution_count": 8
    }
   ],
   "source": [
    "model.fit(독립, 종속, epochs=1000, verbose=0)"
   ]
  },
  {
   "cell_type": "code",
   "execution_count": 9,
   "metadata": {
    "tags": []
   },
   "outputs": [
    {
     "output_type": "stream",
     "name": "stdout",
     "text": "Epoch 1/100\n16/16 [==============================] - 0s 1ms/step - loss: 21.4568\nEpoch 2/100\n16/16 [==============================] - 0s 1ms/step - loss: 21.4036\nEpoch 3/100\n16/16 [==============================] - 0s 1ms/step - loss: 20.8208\nEpoch 4/100\n16/16 [==============================] - 0s 1ms/step - loss: 22.3669\nEpoch 5/100\n16/16 [==============================] - 0s 1ms/step - loss: 21.2707\nEpoch 6/100\n16/16 [==============================] - 0s 1ms/step - loss: 20.7010\nEpoch 7/100\n16/16 [==============================] - 0s 1ms/step - loss: 21.4282\nEpoch 8/100\n16/16 [==============================] - 0s 1ms/step - loss: 22.4827\nEpoch 9/100\n16/16 [==============================] - 0s 1ms/step - loss: 21.3053\nEpoch 10/100\n16/16 [==============================] - 0s 1ms/step - loss: 21.2125\nEpoch 11/100\n16/16 [==============================] - 0s 1ms/step - loss: 21.2927\nEpoch 12/100\n16/16 [==============================] - 0s 1ms/step - loss: 22.1561\nEpoch 13/100\n16/16 [==============================] - 0s 1ms/step - loss: 20.3846\nEpoch 14/100\n16/16 [==============================] - 0s 1ms/step - loss: 22.8175\nEpoch 15/100\n16/16 [==============================] - 0s 1ms/step - loss: 22.2423\nEpoch 16/100\n16/16 [==============================] - 0s 1ms/step - loss: 21.4501\nEpoch 17/100\n16/16 [==============================] - 0s 1ms/step - loss: 22.0242\nEpoch 18/100\n16/16 [==============================] - 0s 1ms/step - loss: 21.1031\nEpoch 19/100\n16/16 [==============================] - 0s 1ms/step - loss: 21.6182\nEpoch 20/100\n16/16 [==============================] - 0s 1ms/step - loss: 20.4267\nEpoch 21/100\n16/16 [==============================] - 0s 1ms/step - loss: 21.9402\nEpoch 22/100\n16/16 [==============================] - 0s 1ms/step - loss: 21.6993\nEpoch 23/100\n16/16 [==============================] - 0s 1ms/step - loss: 20.9774\nEpoch 24/100\n16/16 [==============================] - 0s 1ms/step - loss: 20.7655\nEpoch 25/100\n16/16 [==============================] - 0s 1ms/step - loss: 21.9269\nEpoch 26/100\n16/16 [==============================] - 0s 1ms/step - loss: 21.0012\nEpoch 27/100\n16/16 [==============================] - 0s 1ms/step - loss: 21.5536\nEpoch 28/100\n16/16 [==============================] - 0s 1ms/step - loss: 21.0413\nEpoch 29/100\n16/16 [==============================] - 0s 1ms/step - loss: 22.2404\nEpoch 30/100\n16/16 [==============================] - 0s 1ms/step - loss: 21.0221\nEpoch 31/100\n16/16 [==============================] - 0s 1ms/step - loss: 21.7510\nEpoch 32/100\n16/16 [==============================] - 0s 1ms/step - loss: 21.6293\nEpoch 33/100\n16/16 [==============================] - 0s 1ms/step - loss: 21.0590\nEpoch 34/100\n16/16 [==============================] - 0s 1ms/step - loss: 21.8068\nEpoch 35/100\n16/16 [==============================] - 0s 1ms/step - loss: 20.1725\nEpoch 36/100\n16/16 [==============================] - 0s 1ms/step - loss: 20.6034\nEpoch 37/100\n16/16 [==============================] - 0s 1ms/step - loss: 22.3975\nEpoch 38/100\n16/16 [==============================] - 0s 1ms/step - loss: 21.3530\nEpoch 39/100\n16/16 [==============================] - 0s 1ms/step - loss: 20.7042\nEpoch 40/100\n16/16 [==============================] - 0s 1ms/step - loss: 21.6273\nEpoch 41/100\n16/16 [==============================] - 0s 1ms/step - loss: 21.3738\nEpoch 42/100\n16/16 [==============================] - 0s 1ms/step - loss: 20.2353\nEpoch 43/100\n16/16 [==============================] - 0s 1ms/step - loss: 21.3961\nEpoch 44/100\n16/16 [==============================] - 0s 1ms/step - loss: 20.7010\nEpoch 45/100\n16/16 [==============================] - 0s 1ms/step - loss: 21.1922\nEpoch 46/100\n16/16 [==============================] - 0s 1ms/step - loss: 21.5727\nEpoch 47/100\n16/16 [==============================] - 0s 1ms/step - loss: 20.6444\nEpoch 48/100\n16/16 [==============================] - 0s 997us/step - loss: 22.2825\nEpoch 49/100\n16/16 [==============================] - 0s 1ms/step - loss: 20.6373\nEpoch 50/100\n16/16 [==============================] - 0s 1ms/step - loss: 21.1019\nEpoch 51/100\n16/16 [==============================] - 0s 1ms/step - loss: 21.9868\nEpoch 52/100\n16/16 [==============================] - 0s 997us/step - loss: 21.1791\nEpoch 53/100\n16/16 [==============================] - 0s 997us/step - loss: 21.1115\nEpoch 54/100\n16/16 [==============================] - 0s 1ms/step - loss: 20.1398\nEpoch 55/100\n16/16 [==============================] - 0s 1ms/step - loss: 21.3573\nEpoch 56/100\n16/16 [==============================] - 0s 1ms/step - loss: 20.4592\nEpoch 57/100\n16/16 [==============================] - 0s 997us/step - loss: 21.5968\nEpoch 58/100\n16/16 [==============================] - 0s 1ms/step - loss: 20.3746\nEpoch 59/100\n16/16 [==============================] - 0s 1ms/step - loss: 21.7626\nEpoch 60/100\n16/16 [==============================] - 0s 1ms/step - loss: 20.4186\nEpoch 61/100\n16/16 [==============================] - 0s 1ms/step - loss: 21.5764\nEpoch 62/100\n16/16 [==============================] - 0s 1ms/step - loss: 21.1538\nEpoch 63/100\n16/16 [==============================] - 0s 1ms/step - loss: 20.7680\nEpoch 64/100\n16/16 [==============================] - 0s 1ms/step - loss: 20.5356\nEpoch 65/100\n16/16 [==============================] - 0s 1ms/step - loss: 21.1879\nEpoch 66/100\n16/16 [==============================] - 0s 1ms/step - loss: 20.8573\nEpoch 67/100\n16/16 [==============================] - 0s 1ms/step - loss: 20.5225\nEpoch 68/100\n16/16 [==============================] - 0s 1ms/step - loss: 21.3214\nEpoch 69/100\n16/16 [==============================] - 0s 1ms/step - loss: 21.3722\nEpoch 70/100\n16/16 [==============================] - 0s 1ms/step - loss: 20.6938\nEpoch 71/100\n16/16 [==============================] - 0s 1ms/step - loss: 20.7890\nEpoch 72/100\n16/16 [==============================] - 0s 1ms/step - loss: 20.9794\nEpoch 73/100\n16/16 [==============================] - 0s 1ms/step - loss: 20.8439\nEpoch 74/100\n16/16 [==============================] - 0s 1ms/step - loss: 21.1673\nEpoch 75/100\n16/16 [==============================] - 0s 1ms/step - loss: 21.2356\nEpoch 76/100\n16/16 [==============================] - 0s 1ms/step - loss: 21.3170\nEpoch 77/100\n16/16 [==============================] - 0s 1ms/step - loss: 20.8557\nEpoch 78/100\n16/16 [==============================] - 0s 1ms/step - loss: 21.4304\nEpoch 79/100\n16/16 [==============================] - 0s 1ms/step - loss: 20.3643\nEpoch 80/100\n16/16 [==============================] - 0s 1ms/step - loss: 21.2520\nEpoch 81/100\n16/16 [==============================] - 0s 1ms/step - loss: 20.6438\nEpoch 82/100\n16/16 [==============================] - 0s 1ms/step - loss: 20.8716\nEpoch 83/100\n16/16 [==============================] - 0s 1ms/step - loss: 20.7236\nEpoch 84/100\n16/16 [==============================] - 0s 1ms/step - loss: 20.8793\nEpoch 85/100\n16/16 [==============================] - 0s 1ms/step - loss: 20.7217\nEpoch 86/100\n16/16 [==============================] - 0s 1ms/step - loss: 21.3766\nEpoch 87/100\n16/16 [==============================] - 0s 1ms/step - loss: 21.2222\nEpoch 88/100\n16/16 [==============================] - 0s 1ms/step - loss: 21.1687\nEpoch 89/100\n16/16 [==============================] - 0s 1ms/step - loss: 20.8155\nEpoch 90/100\n16/16 [==============================] - 0s 1ms/step - loss: 20.2015\nEpoch 91/100\n16/16 [==============================] - 0s 1ms/step - loss: 20.1963\nEpoch 92/100\n16/16 [==============================] - 0s 1ms/step - loss: 20.9399\nEpoch 93/100\n16/16 [==============================] - 0s 1ms/step - loss: 20.3917\nEpoch 94/100\n16/16 [==============================] - 0s 1ms/step - loss: 20.3116\nEpoch 95/100\n16/16 [==============================] - 0s 1ms/step - loss: 20.3523\nEpoch 96/100\n16/16 [==============================] - 0s 1ms/step - loss: 20.8979\nEpoch 97/100\n16/16 [==============================] - 0s 1ms/step - loss: 20.5365\nEpoch 98/100\n16/16 [==============================] - 0s 1ms/step - loss: 20.6464\nEpoch 99/100\n16/16 [==============================] - 0s 1ms/step - loss: 20.9260\nEpoch 100/100\n16/16 [==============================] - 0s 1ms/step - loss: 20.1376\n"
    },
    {
     "output_type": "execute_result",
     "data": {
      "text/plain": "<tensorflow.python.keras.callbacks.History at 0x1e33d8543a0>"
     },
     "metadata": {},
     "execution_count": 9
    }
   ],
   "source": [
    "model.fit(독립, 종속, epochs=100)"
   ]
  },
  {
   "cell_type": "code",
   "execution_count": 10,
   "metadata": {
    "tags": []
   },
   "outputs": [
    {
     "output_type": "stream",
     "name": "stdout",
     "text": "Model: \"functional_1\"\n_________________________________________________________________\nLayer (type)                 Output Shape              Param #   \n=================================================================\ninput_2 (InputLayer)         [(None, 13)]              0         \n_________________________________________________________________\ndense_2 (Dense)              (None, 10)                140       \n_________________________________________________________________\ndense_3 (Dense)              (None, 1)                 11        \n=================================================================\nTotal params: 151\nTrainable params: 151\nNon-trainable params: 0\n_________________________________________________________________\n"
    }
   ],
   "source": [
    "model.summary()"
   ]
  },
  {
   "cell_type": "code",
   "execution_count": null,
   "metadata": {},
   "outputs": [],
   "source": []
  }
 ]
}