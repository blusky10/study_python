{
 "metadata": {
  "language_info": {
   "codemirror_mode": {
    "name": "ipython",
    "version": 3
   },
   "file_extension": ".py",
   "mimetype": "text/x-python",
   "name": "python",
   "nbconvert_exporter": "python",
   "pygments_lexer": "ipython3",
   "version": "3.8.5-final"
  },
  "orig_nbformat": 2,
  "kernelspec": {
   "name": "python_defaultSpec_1598312208519",
   "display_name": "Python 3.8.5 64-bit"
  }
 },
 "nbformat": 4,
 "nbformat_minor": 2,
 "cells": [
  {
   "cell_type": "code",
   "execution_count": 1,
   "metadata": {},
   "outputs": [],
   "source": [
    "import tensorflow as tf\n",
    "import pandas as pd"
   ]
  },
  {
   "cell_type": "code",
   "execution_count": 2,
   "metadata": {},
   "outputs": [
    {
     "output_type": "execute_result",
     "data": {
      "text/plain": "   온도  판매량\n0  20   40\n1  21   42\n2  22   44\n3  23   46\n4  24   48",
      "text/html": "<div>\n<style scoped>\n    .dataframe tbody tr th:only-of-type {\n        vertical-align: middle;\n    }\n\n    .dataframe tbody tr th {\n        vertical-align: top;\n    }\n\n    .dataframe thead th {\n        text-align: right;\n    }\n</style>\n<table border=\"1\" class=\"dataframe\">\n  <thead>\n    <tr style=\"text-align: right;\">\n      <th></th>\n      <th>온도</th>\n      <th>판매량</th>\n    </tr>\n  </thead>\n  <tbody>\n    <tr>\n      <th>0</th>\n      <td>20</td>\n      <td>40</td>\n    </tr>\n    <tr>\n      <th>1</th>\n      <td>21</td>\n      <td>42</td>\n    </tr>\n    <tr>\n      <th>2</th>\n      <td>22</td>\n      <td>44</td>\n    </tr>\n    <tr>\n      <th>3</th>\n      <td>23</td>\n      <td>46</td>\n    </tr>\n    <tr>\n      <th>4</th>\n      <td>24</td>\n      <td>48</td>\n    </tr>\n  </tbody>\n</table>\n</div>"
     },
     "metadata": {},
     "execution_count": 2
    }
   ],
   "source": [
    "파일경로='./lemonade.csv'\n",
    "데이터=pd.read_csv(파일경로)\n",
    "데이터.head()"
   ]
  },
  {
   "cell_type": "code",
   "execution_count": 3,
   "metadata": {
    "tags": []
   },
   "outputs": [
    {
     "output_type": "stream",
     "name": "stdout",
     "text": "(6, 1) (6, 1)\n"
    }
   ],
   "source": [
    "독립=데이터[['온도']]\n",
    "종속=데이터[['판매량']]\n",
    "print(독립.shape, 종속.shape)"
   ]
  },
  {
   "cell_type": "code",
   "execution_count": 4,
   "metadata": {},
   "outputs": [],
   "source": [
    "X = tf.keras.layers.Input(shape=[1])\n",
    "Y = tf.keras.layers.Dense(1)(X)\n",
    "model = tf.keras.models.Model(X, Y)\n",
    "model.compile(loss='mse')"
   ]
  },
  {
   "cell_type": "code",
   "execution_count": 8,
   "metadata": {
    "tags": []
   },
   "outputs": [
    {
     "output_type": "stream",
     "name": "stdout",
     "text": "Epoch 1/10\n1/1 [==============================] - 0s 2ms/step - loss: 1.4168e-04\nEpoch 2/10\n1/1 [==============================] - 0s 3ms/step - loss: 1.4162e-04\nEpoch 3/10\n1/1 [==============================] - 0s 2ms/step - loss: 1.4161e-04\nEpoch 4/10\n1/1 [==============================] - 0s 2ms/step - loss: 1.4165e-04\nEpoch 5/10\n1/1 [==============================] - 0s 2ms/step - loss: 1.4172e-04\nEpoch 6/10\n1/1 [==============================] - 0s 2ms/step - loss: 1.4178e-04\nEpoch 7/10\n1/1 [==============================] - 0s 2ms/step - loss: 1.4183e-04\nEpoch 8/10\n1/1 [==============================] - 0s 998us/step - loss: 1.4180e-04\nEpoch 9/10\n1/1 [==============================] - 0s 2ms/step - loss: 1.4175e-04\nEpoch 10/10\n1/1 [==============================] - 0s 996us/step - loss: 1.4165e-04\n"
    },
    {
     "output_type": "execute_result",
     "data": {
      "text/plain": "<tensorflow.python.keras.callbacks.History at 0x2052f1f0700>"
     },
     "metadata": {},
     "execution_count": 8
    }
   ],
   "source": [
    "model.fit(독립,종속,epochs=10)"
   ]
  },
  {
   "cell_type": "code",
   "execution_count": 9,
   "metadata": {},
   "outputs": [
    {
     "output_type": "execute_result",
     "data": {
      "text/plain": "array([[40.013103],\n       [42.012608],\n       [44.012115],\n       [46.01162 ],\n       [48.011124],\n       [50.01063 ]], dtype=float32)"
     },
     "metadata": {},
     "execution_count": 9
    }
   ],
   "source": [
    "model.predict(독립)"
   ]
  },
  {
   "cell_type": "code",
   "execution_count": 10,
   "metadata": {},
   "outputs": [
    {
     "output_type": "execute_result",
     "data": {
      "text/plain": "array([[30.015574]], dtype=float32)"
     },
     "metadata": {},
     "execution_count": 10
    }
   ],
   "source": [
    "model.predict([[15]])"
   ]
  },
  {
   "cell_type": "code",
   "execution_count": null,
   "metadata": {},
   "outputs": [],
   "source": []
  },
  {
   "cell_type": "code",
   "execution_count": null,
   "metadata": {},
   "outputs": [],
   "source": []
  },
  {
   "cell_type": "code",
   "execution_count": null,
   "metadata": {},
   "outputs": [],
   "source": []
  },
  {
   "cell_type": "code",
   "execution_count": null,
   "metadata": {},
   "outputs": [],
   "source": []
  }
 ]
}